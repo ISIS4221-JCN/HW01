{
 "cells": [
  {
   "cell_type": "markdown",
   "metadata": {},
   "source": [
    "# HW1 IR Evaluation metrics"
   ]
  },
  {
   "cell_type": "code",
   "execution_count": 95,
   "metadata": {},
   "outputs": [],
   "source": [
    "# Imports required libraries for execution\n",
    "from math import log2\n",
    "import numpy as np"
   ]
  },
  {
   "cell_type": "code",
   "execution_count": 16,
   "metadata": {},
   "outputs": [
    {
     "name": "stdout",
     "output_type": "stream",
     "text": [
      "4\n"
     ]
    }
   ],
   "source": [
    "a = [1, 2, 3, 4]\n",
    "a = np.asarray(a)\n",
    "\n",
    "print(a.shape[0])"
   ]
  },
  {
   "cell_type": "markdown",
   "metadata": {},
   "source": [
    "## Precision"
   ]
  },
  {
   "cell_type": "code",
   "execution_count": 21,
   "metadata": {},
   "outputs": [],
   "source": [
    "def precision(query):\n",
    "    \"\"\" Calculates precision for a given query with binary relevance.\n",
    "    \n",
    "    Args:\n",
    "        query (list): query with the binary relevance.\n",
    "        \n",
    "    Raises:\n",
    "        ZeroDivisionError: when query is empty.\n",
    "    \n",
    "    Returns:\n",
    "        float: calculated precision for the query.\n",
    "    \n",
    "    \"\"\"\n",
    "    \n",
    "    # Converts input object to numpy array\n",
    "    if type(query) != 'numpy.ndarray':\n",
    "        query = np.asarray(query)\n",
    "        \n",
    "    # Checks that query length is greater than zero\n",
    "    if query.shape[0] == 0:\n",
    "        raise ZeroDivisionError(\"Query length is zero.\")\n",
    "    \n",
    "    # Calculates precision\n",
    "    else:\n",
    "        return np.sum(query) / query.shape[0]\n"
   ]
  },
  {
   "cell_type": "code",
   "execution_count": 22,
   "metadata": {},
   "outputs": [
    {
     "name": "stdout",
     "output_type": "stream",
     "text": [
      "Precision (list) is: 0.25\n",
      "Precision (numpy) is: 0.25\n",
      "ZeroDivisionError raised when empty query.\n"
     ]
    }
   ],
   "source": [
    "# Precision test with Python list\n",
    "relevance_query_1 = [0, 0, 0, 1]\n",
    "print(\"Precision (list) is: {}\".format(precision(relevance_query_1)))\n",
    "\n",
    "# Precision test with numpy array\n",
    "relevance_query_2 = np.asarray([0, 0, 0, 1])\n",
    "print(\"Precision (numpy) is: {}\".format(precision(relevance_query_2)))\n",
    "\n",
    "# Tests behaviour on empty list\n",
    "relevance_query_3 = []\n",
    "try:\n",
    "    precision(relevance_query_3)\n",
    "except ZeroDivisionError as e:\n",
    "    print(\"ZeroDivisionError raised when empty query.\")\n",
    "    "
   ]
  },
  {
   "cell_type": "markdown",
   "metadata": {},
   "source": [
    "## Precision at K"
   ]
  },
  {
   "cell_type": "code",
   "execution_count": 25,
   "metadata": {},
   "outputs": [],
   "source": [
    "def precision_at_k(query, k):\n",
    "    \"\"\" Calculates precision for a given query with k relevant binary values.\n",
    "    \n",
    "    If k is greater than the number of elements in the query, the whole list\n",
    "    will be used for precision calculation. If k is lower or equal to zero, \n",
    "    the returned value for precision will be zero.\n",
    "    \n",
    "    Args:\n",
    "        query (list): query with the binary relevant values.\n",
    "        k (int): number of relevant values used for calculation.\n",
    "        \n",
    "    Raises:\n",
    "        ZeroDivisionError: if the query is empty.\n",
    "    \n",
    "    \n",
    "    Returns:\n",
    "        float: calculated precision for the k relevant values.\n",
    "    \n",
    "    \"\"\"\n",
    "    \n",
    "    # Converts input object to numpy array\n",
    "    if type(query) != 'numpy.ndarray':\n",
    "        query = np.asarray(query)\n",
    "        \n",
    "    # Checks that query is not empty\n",
    "    if query.shape[0] == 0:\n",
    "        raise ZeroDivisionError(\"Query is empty\")\n",
    "    \n",
    "    # Checks that K is not lower or equal to zero.\n",
    "    if k <= 0:\n",
    "        return 0.0\n",
    "    \n",
    "    # Checks if K is greater than query length.\n",
    "    elif k > query.shape[0]:\n",
    "        return np.sum(query) / query.shape[0]\n",
    "    \n",
    "    # If K value is whithin boundaries\n",
    "    else:\n",
    "        return np.sum(query[0:k]) / k\n"
   ]
  },
  {
   "cell_type": "code",
   "execution_count": 26,
   "metadata": {},
   "outputs": [
    {
     "name": "stdout",
     "output_type": "stream",
     "text": [
      "Precision at k (list) is: 0.0\n",
      "Precision at k (numpy) is: 0.0\n",
      "ZeroDivisionError raised when empty query.\n"
     ]
    }
   ],
   "source": [
    "# Precision test with Python list\n",
    "relevance_query_1 = [0, 0, 0, 1]\n",
    "k_1 = 1\n",
    "print(\"Precision at k (list) is: {}\".format(precision_at_k(relevance_query_1, k_1)))\n",
    "\n",
    "# Precision test with numpy array\n",
    "relevance_query_2 = np.asarray([0, 0, 0, 1])\n",
    "k_2 = 1\n",
    "print(\"Precision at k (numpy) is: {}\".format(precision_at_k(relevance_query_2, k_2)))\n",
    "\n",
    "# Tests behaviour on empty list\n",
    "relevance_query_3 = []\n",
    "k_3 = 1\n",
    "try:\n",
    "    precision_at_k(relevance_query_3, k_3)\n",
    "except ZeroDivisionError as e:\n",
    "    print(\"ZeroDivisionError raised when empty query.\")\n"
   ]
  },
  {
   "cell_type": "markdown",
   "metadata": {},
   "source": [
    "## Recall at K"
   ]
  },
  {
   "cell_type": "code",
   "execution_count": 27,
   "metadata": {},
   "outputs": [],
   "source": [
    "def recall_at_k(query, n_relevant, k):\n",
    "    \"\"\" Calculates recall for a given query of a given number of relevant documents.\n",
    "    \n",
    "    If k is greater than the number of elements in the query list, the whole\n",
    "    list will be used for recall calculation. If k is lower or equal to zero, \n",
    "    the returned value is zero.\n",
    "    \n",
    "    Args:\n",
    "        query (list): query with the binary relevant results.\n",
    "        n_relevant (int): number of relevant documents used on the calculation.\n",
    "        k (int): number of the top documents used on the calculation.\n",
    "    \n",
    "    Raises:\n",
    "        ZeroDivisionError: if the number of relevant documents is\n",
    "            zero.\n",
    "            \n",
    "    Returns\n",
    "        float: recall value for the given query, \n",
    "    \n",
    "    \"\"\"\n",
    "    \n",
    "    # Converts input object to numpy array\n",
    "    if type(query) != 'numpy.ndarray':\n",
    "        query = np.asarray(query)\n",
    "        \n",
    "    # Checks that number of relevan documents is not zero\n",
    "    if n_relevant == 0:\n",
    "        raise ZeroDivisionError(\"Number of relevant documents is zero\")\n",
    "    \n",
    "    # Checks that K is not lower or equal to zero.\n",
    "    if k <= 0:\n",
    "        return 0\n",
    "    \n",
    "    # Checks if K is greater than query length.\n",
    "    elif k > query.shape[0]:\n",
    "        return np.sum(query) / n_relevant\n",
    "    \n",
    "    # If K value is whithin boundaries\n",
    "    else:\n",
    "        return np.sum(query[0:k]) / n_relevant\n"
   ]
  },
  {
   "cell_type": "code",
   "execution_count": 32,
   "metadata": {},
   "outputs": [
    {
     "name": "stdout",
     "output_type": "stream",
     "text": [
      "Recall at k with N relevant documents: 0.0\n",
      "Recall at k with N relevant documents: 0.0\n",
      "Raised exception on relevant_documents equal to zero\n"
     ]
    }
   ],
   "source": [
    "# Recall test with Python list\n",
    "relevance_query_1 = [0, 0, 0, 1]\n",
    "k_1 = 1\n",
    "number_relevant_docs_1 = 4\n",
    "print(\"Recall at k with N relevant documents: {}\".format(recall_at_k(relevance_query_1, number_relevant_docs_1, k_1)))\n",
    "\n",
    "# Recall test with numpy array\n",
    "relevance_query_2 = np.asarray([0, 0, 0, 1])\n",
    "k_2 = 1\n",
    "number_relevant_docs_2 = 3\n",
    "print(\"Recall at k with N relevant documents: {}\".format(recall_at_k(relevance_query_2, number_relevant_docs_2, k_2)))\n",
    "\n",
    "# Tests behaviour on relevant_documents = 0\n",
    "relevance_query_2 = np.asarray([0, 0, 0, 1])\n",
    "k_2 = 1\n",
    "number_relevant_docs_2 = 0\n",
    "try:\n",
    "    recall_at_k(relevance_query_2, number_relevant_docs_2, k_2)\n",
    "except ZeroDivisionError as e:\n",
    "    print(\"Raised exception on relevant_documents equal to zero\")"
   ]
  },
  {
   "cell_type": "markdown",
   "metadata": {},
   "source": [
    "## Average-precision"
   ]
  },
  {
   "cell_type": "code",
   "execution_count": 33,
   "metadata": {},
   "outputs": [],
   "source": [
    "def average_precision(query):\n",
    "    \"\"\"  Calculates average precision for a query.\n",
    "    \n",
    "    Args:\n",
    "        query (list): query result with binary values.\n",
    "        \n",
    "    Raises:\n",
    "        ZeroDivisionError: if query has no relevant documents.\n",
    "        \n",
    "    Returns:\n",
    "        float: average-precision for the given query.\n",
    "    \n",
    "    \"\"\"\n",
    "    \n",
    "    # Converts input object to numpy array\n",
    "    if type(query) != 'numpy.ndarray':\n",
    "        query = np.asarray(query)\n",
    "    \n",
    "    # Intializes variables to store the sum of the precision and used values.\n",
    "    precision_sum = 0\n",
    "    precision_values = 0\n",
    "    \n",
    "    # Initializes a variable to store the previous recall value\n",
    "    previous_recall = 0\n",
    "    \n",
    "    # Constant to store the number of relevant documents\n",
    "    N_RELEVANT = np.sum(query)\n",
    "    \n",
    "    # Binary flag to stop iteration\n",
    "    finished = False\n",
    "    \n",
    "    # Iteration variable\n",
    "    k = 0\n",
    "    \n",
    "    # Iterates over the query list\n",
    "    while not finished:\n",
    "        \n",
    "        # Calculates the recall at index k\n",
    "        current_recall = recall_at_k(query, N_RELEVANT, k)\n",
    "        \n",
    "        # Checks whether the recall went up\n",
    "        if current_recall > previous_recall:\n",
    "            \n",
    "            precision_sum += precision_at_k(query, k)\n",
    "            precision_values += 1\n",
    "            \n",
    "        # Checks stop condition\n",
    "        if current_recall == 1.0:\n",
    "            finished = True\n",
    "            \n",
    "        # Updates variables\n",
    "        previous_recall = current_recall\n",
    "        k += 1\n",
    "        \n",
    "    return precision_sum / precision_values\n",
    "    "
   ]
  },
  {
   "cell_type": "code",
   "execution_count": 41,
   "metadata": {},
   "outputs": [
    {
     "name": "stdout",
     "output_type": "stream",
     "text": [
      "Average-precision: 0.5961904761904762\n",
      "Raised exception when query has no relevant documents\n"
     ]
    }
   ],
   "source": [
    "query_1 = [0, 1, 0, 1, 1, 1, 1]\n",
    "print(\"Average-precision: {}\".format(average_precision(query_1)))\n",
    "\n",
    "query_2 = [0, 0, 0, 0, 0, 0, 0]\n",
    "try:\n",
    "    average_precision(query_2)\n",
    "except ZeroDivisionError as e:\n",
    "    print(\"Raised exception when query has no relevant documents\")"
   ]
  },
  {
   "cell_type": "markdown",
   "metadata": {},
   "source": [
    "## MAP"
   ]
  },
  {
   "cell_type": "code",
   "execution_count": 89,
   "metadata": {},
   "outputs": [],
   "source": [
    "def MAP(queries):\n",
    "    \"\"\" Calculatees mean average precision for a set of queries.\n",
    "    \n",
    "    Args:\n",
    "        quieries (list): contains vectors of queries.\n",
    "        \n",
    "    Raises:\n",
    "        Exception: if list is not two-dimensional.\n",
    "        ZeroDivisionError: if a query has no relevant documents.\n",
    "    \n",
    "    Returns:\n",
    "        float: mean average precision for the queries.\n",
    "    \"\"\"\n",
    "    \n",
    "    \n",
    "    # Converts input object to numpy array\n",
    "    if type(query) != 'numpy.ndarray':\n",
    "        queries = np.asarray(queries)\n",
    "        \n",
    "    # Checks if input array is 2-dimensional\n",
    "    if len(queries.shape) != 2:\n",
    "        raise Exception(\"Input array is not two-dimensional\")\n",
    "        \n",
    "    # Checks that there is at least one non-zero binary vector\n",
    "    if queries.shape[1] == 0 or queries.shape[0] < 1:\n",
    "        raise ZeroDivisionError(\"F.U.\")\n",
    "        \n",
    "    # Stores the number of queries used for calculating MAP\n",
    "    n_queries = queries.shape[0]\n",
    "        \n",
    "    # Variable to store the sum of average-precision values\n",
    "    avg_p_sum = 0\n",
    "        \n",
    "    for indx in range(n_queries):\n",
    "    \n",
    "        avg_p_sum += average_precision(queries[indx, :])\n",
    "        \n",
    "    return avg_p_sum / n_queries\n",
    "        \n"
   ]
  },
  {
   "cell_type": "code",
   "execution_count": 92,
   "metadata": {},
   "outputs": [
    {
     "name": "stdout",
     "output_type": "stream",
     "text": [
      "Map for queries is: 0.724074074074074\n"
     ]
    }
   ],
   "source": [
    "queries = [\n",
    "    [0, 1, 1, 1, 0],\n",
    "    [0, 1, 0, 1, 1],\n",
    "    [1, 1, 0, 0, 0]\n",
    "]\n",
    "\n",
    "print(\"Map for queries is: {}\".format(MAP(queries)))"
   ]
  },
  {
   "cell_type": "code",
   "execution_count": 140,
   "metadata": {},
   "outputs": [],
   "source": [
    "def DCG(query, k):\n",
    "    \"\"\" Calculates discounted cumulative gain for a given query and index.\n",
    "    \n",
    "    Args:\n",
    "        query (list): query with ranked relevance.\n",
    "        k (int): index for the DCG calculation\n",
    "        \n",
    "    Returns:\n",
    "        float: DCG for the given query and index.\n",
    "    \n",
    "    \"\"\"\n",
    "    \n",
    "    \n",
    "    # Converts input object to numpy array\n",
    "    if type(query) != 'numpy.ndarray':\n",
    "        query = np.asarray(query)\n",
    "        \n",
    "    # Returns 0 if index is lower or equal to zero or empty query\n",
    "    if k <= 0 or query.shape[0] == 0:\n",
    "        return 0.0\n",
    "    \n",
    "    # K is set to query size if greater than the last\n",
    "    elif k > query.shape[0]:\n",
    "        k = query.shape[0]\n",
    "    \n",
    "    # Intializes variable to add DCG\n",
    "    dcg = 0\n",
    "    \n",
    "    # Defines a function to calculate the DCG coefficient\n",
    "    def coeff(i):\n",
    "        return 1.0 / log2(max([i, 2]))\n",
    "    \n",
    "    # Calculates DCG for query\n",
    "    for i in range(k):\n",
    "        dcg += query[i] * coeff(i + 1)\n",
    "        \n",
    "    # Returns calculated DCG\n",
    "    return dcg"
   ]
  },
  {
   "cell_type": "code",
   "execution_count": 141,
   "metadata": {},
   "outputs": [
    {
     "name": "stdout",
     "output_type": "stream",
     "text": [
      "DCG for query with k=1: 4.0\n",
      "DCG for query with k=2: 7.0\n",
      "DCG for query with k=3: 9.523719014285831\n",
      "DCG for query with k=4: 10.523719014285831\n",
      "DCG for query with k=5: 10.523719014285831\n",
      "DCG for query with k=6: 10.523719014285831\n",
      "DCG for query with k=7: 10.523719014285831\n",
      "DCG for query with k=8: 10.857052347619165\n",
      "DCG for query with k=9: 11.172517224404894\n",
      "DCG for query with k=10: 11.172517224404894\n",
      "DCG for query with k=11: 11.172517224404894\n",
      "DCG for query with k=12: 11.172517224404894\n"
     ]
    }
   ],
   "source": [
    "for k in range(1, 13):\n",
    "    print(\"DCG for query with k={}: {}\".format(k, DCG([4, 3, 4, 2, 0, 0, 0, 1, 1, 0], k)))"
   ]
  },
  {
   "cell_type": "code",
   "execution_count": 142,
   "metadata": {},
   "outputs": [],
   "source": [
    "def NDCG(query, k):\n",
    "    \"\"\" Calculates normalized discounted cumulative gain.\n",
    "    \n",
    "    Args:\n",
    "        query (list): query with ranked relevance\n",
    "        k (int): index for DCG calculation\n",
    "    \n",
    "    Return:\n",
    "        float: normalized discounted cumulative gain.\n",
    "    \n",
    "    \"\"\"\n",
    "    \n",
    "    # Converts query to numpy array\n",
    "    if type(query) != 'numpy.ndarray':\n",
    "        query = np.asarray(query)\n",
    "    \n",
    "    # Calculates DCG for query at given index\n",
    "    dcg = DCG(query, k)\n",
    "    \n",
    "    # Sorts query ranked relevance\n",
    "    query_max = -np.sort(-query)\n",
    "    \n",
    "    # Calculates maximum DCG for query\n",
    "    dcg_max = DCG(query_max, k)\n",
    "    \n",
    "    # Returns normalized DCG\n",
    "    return dcg / dcg_max"
   ]
  },
  {
   "cell_type": "code",
   "execution_count": 143,
   "metadata": {},
   "outputs": [
    {
     "name": "stdout",
     "output_type": "stream",
     "text": [
      "NDCG for query with k=1: 1.0\n",
      "NDCG for query with k=2: 0.875\n",
      "NDCG for query with k=3: 0.962693004298174\n",
      "NDCG for query with k=4: 0.9661179301650845\n",
      "NDCG for query with k=5: 0.9293726128289269\n",
      "NDCG for query with k=6: 0.8986705955976593\n",
      "NDCG for query with k=7: 0.8986705955976593\n",
      "NDCG for query with k=8: 0.9271355199074565\n",
      "NDCG for query with k=9: 0.9540745714277723\n",
      "NDCG for query with k=10: 0.9540745714277723\n"
     ]
    }
   ],
   "source": [
    "for k in range(1, 11):\n",
    "    print(\"NDCG for query with k={}: {}\".format(k, NDCG([4, 3, 4, 2, 0, 0, 0, 1, 1, 0], k)))"
   ]
  },
  {
   "cell_type": "code",
   "execution_count": null,
   "metadata": {},
   "outputs": [],
   "source": []
  }
 ],
 "metadata": {
  "kernelspec": {
   "display_name": "Python 3",
   "language": "python",
   "name": "python3"
  },
  "language_info": {
   "codemirror_mode": {
    "name": "ipython",
    "version": 3
   },
   "file_extension": ".py",
   "mimetype": "text/x-python",
   "name": "python",
   "nbconvert_exporter": "python",
   "pygments_lexer": "ipython3",
   "version": "3.6.9"
  }
 },
 "nbformat": 4,
 "nbformat_minor": 2
}

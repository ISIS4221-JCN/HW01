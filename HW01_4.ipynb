{
 "cells": [
  {
   "cell_type": "markdown",
   "metadata": {},
   "source": [
    "# HW01 Basic Ranked Retrieval (RRI)"
   ]
  },
  {
   "cell_type": "markdown",
   "metadata": {},
   "source": [
    "## Import Data"
   ]
  },
  {
   "cell_type": "code",
   "execution_count": 1,
   "metadata": {},
   "outputs": [],
   "source": [
    "# Import required libraries for excecution\n",
    "\n",
    "from IPython.display import clear_output\n",
    "from gensim import corpora\n",
    "import numpy as np\n",
    "import pandas as pd\n",
    "import csv"
   ]
  },
  {
   "cell_type": "code",
   "execution_count": 2,
   "metadata": {},
   "outputs": [],
   "source": [
    "# Load vocabulary, doc_corpus, query_corpus and df with tags\n",
    "dictionary = corpora.Dictionary.load('vocab.dict')\n",
    "doc_corpus = corpora.MmCorpus(\"doc_corpus.mm\")\n",
    "query_corpus = corpora.MmCorpus(\"query_corpus.mm\")\n",
    "#df = pd.read_csv('./data/relevance-judgments.tsv', sep='\\t', header=None)\n",
    "#df.columns = ['query', 'doc']"
   ]
  },
  {
   "cell_type": "code",
   "execution_count": 3,
   "metadata": {},
   "outputs": [
    {
     "name": "stdout",
     "output_type": "stream",
     "text": [
      "Dictionary(17365 unique tokens: ['1', '1785', '1812', '1819', '1820']...)\n"
     ]
    }
   ],
   "source": [
    "# Glimpse at vocabulary\n",
    "print(dictionary)\n",
    "#print(dictionary.token2id)"
   ]
  },
  {
   "cell_type": "code",
   "execution_count": 4,
   "metadata": {},
   "outputs": [
    {
     "name": "stdout",
     "output_type": "stream",
     "text": [
      "MmCorpus(331 documents, 17365 features, 81038 non-zero entries)\n",
      "MmCorpus(35 documents, 16373 features, 110 non-zero entries)\n"
     ]
    }
   ],
   "source": [
    "# Glimpse to doc and query corpus\n",
    "print(doc_corpus)\n",
    "print(query_corpus)"
   ]
  },
  {
   "cell_type": "markdown",
   "metadata": {},
   "source": [
    "## Matrix to store Tfidf"
   ]
  },
  {
   "cell_type": "code",
   "execution_count": 5,
   "metadata": {
    "scrolled": true
   },
   "outputs": [],
   "source": [
    "# Build first the Tf Matrix\n",
    "tf_matrix = np.zeros((len(dictionary),len(doc_corpus)), dtype = np.float32)\n",
    "\n",
    "# Doc corpus loop\n",
    "for doc_id, doc in enumerate(doc_corpus):\n",
    "    # Compute tf for each doc\n",
    "    for term in doc:\n",
    "        tf_matrix[term[0],doc_id] = np.log10(1+term[1])\n",
    "        \n",
    "# Build the idf array\n",
    "N = len(doc_corpus)\n",
    "idf_array = np.zeros((len(dictionary),), dtype = np.float32)\n",
    "# Compute the idf for each term\n",
    "for i, term in enumerate(tf_matrix):\n",
    "    idf_array[i] = np.log10(N/len(np.nonzero(term)[0]))\n",
    "    \n",
    "# Build the inverted index Tfidf Matrix\n",
    "tfidf_matrix = (tf_matrix.T * idf_array).T\n",
    "\n",
    "#print(tfidf_matrix)"
   ]
  },
  {
   "cell_type": "markdown",
   "metadata": {},
   "source": [
    "## Basic Ranked Retrieval"
   ]
  },
  {
   "cell_type": "code",
   "execution_count": 6,
   "metadata": {},
   "outputs": [],
   "source": [
    "def basic_ranked_retrieval(tfidf_matrix, query):\n",
    "    \"\"\" Performs a basic ranked retrieval query based on the weights (scores) stored in a tfidf_matrix.\n",
    "     \n",
    "    Args:\n",
    "        tfidf_matrix (numpy.ndarray): matrix with the tfidf scores for each term in each doc.\n",
    "        query (list): words contained in the query\n",
    "    \n",
    "    Returns:\n",
    "        list: with relevant (score > 0) documents according to query\n",
    "    \n",
    "    \"\"\"\n",
    "    #  Retrieve terms (row index) from the query\n",
    "    index = []\n",
    "    for query_terms in query:\n",
    "        index.append(query_terms[0])\n",
    "        \n",
    "    # Retrieve rows from the tfidf matrix\n",
    "    results_matrix = tfidf_matrix[index,:]\n",
    "    \n",
    "    # Add all tfidf scores for each term\n",
    "    results_matrix = np.sum(results_matrix, axis=0)\n",
    "    \n",
    "    # Retrieve doc IDs\n",
    "    results = list(enumerate(results_matrix))\n",
    "    dtype = [('doc_id', int), ('score', float)]\n",
    "    docs_score = np.array(results, dtype=dtype)\n",
    "    # Adjust doc ID\n",
    "    docs_score['doc_id'] = docs_score['doc_id'] + 1\n",
    "\n",
    "    # Sort docs by score\n",
    "    docs_score_sorted = np.flip(np.sort(docs_score, order='score'))\n",
    "\n",
    "    # Retrieve only documents with non zero score\n",
    "    k = len(np.nonzero(docs_score['score'])[0])\n",
    "    relevant_docs = docs_score_sorted[0:k]\n",
    "    \n",
    "    # Return relevant docs\n",
    "    return relevant_docs"
   ]
  },
  {
   "cell_type": "markdown",
   "metadata": {},
   "source": [
    "## Querying"
   ]
  },
  {
   "cell_type": "code",
   "execution_count": 7,
   "metadata": {},
   "outputs": [
    {
     "name": "stdout",
     "output_type": "stream",
     "text": [
      "Basic Ranked Retrieval Query results:\n",
      "\n",
      "[ 16 186 254  85 259]\n",
      "[147 283 293 149 318]\n",
      "[291 283 152]\n",
      "[ 49  19 270 275  10]\n",
      "[297 329  26 257  29]\n",
      "[  4 146  34 289  98]\n",
      "[251 108 110 117 180]\n",
      "[199 198 177 217 223]\n",
      "[231  52 100  60  36]\n",
      "[277 258 250 239 176]\n",
      "[ 49 272 241  42 219]\n",
      "[180 121 122 145  81]\n",
      "[184 132 250 277 176]\n",
      "[271 121  91  24 172]\n",
      "[192 194 201 210 207]\n",
      "[179 323 102   4  21]\n",
      "[258  49  56 277  11]\n",
      "[219 276 323  26 318]\n",
      "[199 282 220 216 201]\n",
      "[166 328  20 265 156]\n",
      "[152 143 293 291 147]\n",
      "[103  51 158 116 227]\n",
      "[316 136  56  80 147]\n",
      "[314 133 120 113   1]\n",
      "[ 25  90 139  67  92]\n",
      "[216 113  37  75 312]\n",
      "[257 277 321  23 265]\n",
      "[169 116  62 327 294]\n",
      "[263 294 118  39 138]\n",
      "[307  42 262 283 252]\n",
      "[174 150 268 128  36]\n",
      "[298  48 314 125 216]\n",
      "[ 29 185 164 105 254]\n",
      "[105 164 185  85 126]\n",
      "[133 125 122 145 121]\n"
     ]
    }
   ],
   "source": [
    "# Perform Basic Ranked Retrieval for all querys\n",
    "print('Basic Ranked Retrieval Query results:')\n",
    "print('')\n",
    "\n",
    "for query in query_corpus:\n",
    "    relevant_docs = basic_ranked_retrieval(tfidf_matrix, query)\n",
    "    # Print only top 5 docs\n",
    "    print(relevant_docs['doc_id'][0:5])"
   ]
  }
 ],
 "metadata": {
  "kernelspec": {
   "display_name": "Python 3",
   "language": "python",
   "name": "python3"
  },
  "language_info": {
   "codemirror_mode": {
    "name": "ipython",
    "version": 3
   },
   "file_extension": ".py",
   "mimetype": "text/x-python",
   "name": "python",
   "nbconvert_exporter": "python",
   "pygments_lexer": "ipython3",
   "version": "3.7.8"
  }
 },
 "nbformat": 4,
 "nbformat_minor": 4
}

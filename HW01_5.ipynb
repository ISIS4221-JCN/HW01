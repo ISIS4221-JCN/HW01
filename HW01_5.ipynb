{
 "cells": [
  {
   "cell_type": "code",
   "execution_count": 1,
   "id": "italian-optimization",
   "metadata": {},
   "outputs": [],
   "source": [
    "# Import required libraries for excecution\n",
    "from IPython.display import clear_output\n",
    "from gensim import corpora\n",
    "import numpy as np\n",
    "import pandas as pd\n",
    "import csv"
   ]
  },
  {
   "cell_type": "code",
   "execution_count": 2,
   "id": "christian-diary",
   "metadata": {},
   "outputs": [],
   "source": [
    "# Load vocabulary, doc_corpus, query_corpus and df with tags\n",
    "dictionary = corpora.Dictionary.load('vocab.dict')\n",
    "doc_corpus = corpora.MmCorpus(\"doc_corpus.mm\")\n",
    "query_corpus = corpora.MmCorpus(\"query_corpus.mm\")\n",
    "df = pd.read_csv('./data/relevance-judgments.tsv', sep='\\t', header=None)\n",
    "df.columns = ['query', 'doc']"
   ]
  },
  {
   "cell_type": "code",
   "execution_count": 3,
   "id": "scheduled-junction",
   "metadata": {},
   "outputs": [
    {
     "name": "stdout",
     "output_type": "stream",
     "text": [
      "(1, 1.0)\n"
     ]
    }
   ],
   "source": [
    "print(doc_corpus[0][1])"
   ]
  },
  {
   "cell_type": "code",
   "execution_count": 4,
   "id": "scheduled-checklist",
   "metadata": {},
   "outputs": [],
   "source": [
    "# Build first the Tf Matrix\n",
    "tf_matrix = np.zeros((len(dictionary),len(doc_corpus)), dtype = np.float32)\n",
    "# Doc corpus loop\n",
    "for doc_id, doc in enumerate(doc_corpus):\n",
    "    # Compute tf for each doc\n",
    "    for term in doc:\n",
    "        tf_matrix[term[0],doc_id] = np.log10(1+term[1])        \n",
    "# Build the idf array\n",
    "N = len(doc_corpus)\n",
    "idf_array = np.zeros((len(dictionary),), dtype = np.float32)\n",
    "# Compute the idf for each term\n",
    "for i, term in enumerate(tf_matrix):\n",
    "    idf_array[i] = np.log10(N/len(np.nonzero(term)[0]))\n",
    "def dq_to_vec(d_q):\n",
    "    vec = np.zeros((len(dictionary), 1), dtype = np.float32)\n",
    "    for term in d_q:\n",
    "        vec[term[0]] = np.log10(1 + term[1]) * idf_array[term[0]]\n",
    "    return vec"
   ]
  },
  {
   "cell_type": "code",
   "execution_count": 5,
   "id": "physical-promise",
   "metadata": {},
   "outputs": [],
   "source": [
    "def cosine_similarity(doc,query):\n",
    "    doc = dq_to_vec(doc)\n",
    "    query = dq_to_vec(query)\n",
    "    return (sum(doc*query)/(sum(doc)*sum(query)))[0]"
   ]
  },
  {
   "cell_type": "code",
   "execution_count": 6,
   "id": "mighty-acoustic",
   "metadata": {},
   "outputs": [],
   "source": [
    "def ranked_retrieval(query):\n",
    "    scores = []\n",
    "    for doc in doc_corpus:\n",
    "        scores.append(cosine_similarity(doc, query))\n",
    "    scores_sorted = scores.copy()\n",
    "    scores_sorted.sort(reverse = True)\n",
    "    docs = []\n",
    "    for score in scores_sorted[:len(np.nonzero(scores_sorted)[0])]:\n",
    "        docs.append(scores.index(score) + 1)\n",
    "    return docs"
   ]
  },
  {
   "cell_type": "code",
   "execution_count": 7,
   "id": "played-alcohol",
   "metadata": {},
   "outputs": [],
   "source": [
    "df_results = []\n",
    "for query in query_corpus:\n",
    "    result_list = ''\n",
    "    results = ranked_retrieval(query)\n",
    "    for result in results:\n",
    "        result_list = result_list + 'd' + str(f'{result:03}') + ','\n",
    "    df_results.append(result_list[:-1])\n",
    "df['results'] = df_results\n",
    "df = df.set_index('query')\n",
    "# drop column and export tsv file with results\n",
    "df.drop('doc', axis=1).to_csv('./results/(RRDV-queries_results.tsv', sep='\\t', header=False)"
   ]
  }
 ],
 "metadata": {
  "kernelspec": {
   "display_name": "Python 3",
   "language": "python",
   "name": "python3"
  },
  "language_info": {
   "codemirror_mode": {
    "name": "ipython",
    "version": 3
   },
   "file_extension": ".py",
   "mimetype": "text/x-python",
   "name": "python",
   "nbconvert_exporter": "python",
   "pygments_lexer": "ipython3",
   "version": "3.6.9"
  }
 },
 "nbformat": 4,
 "nbformat_minor": 5
}

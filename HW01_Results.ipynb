{
 "cells": [
  {
   "cell_type": "markdown",
   "id": "healthy-butter",
   "metadata": {},
   "source": [
    "# HW01 Results"
   ]
  },
  {
   "cell_type": "code",
   "execution_count": 13,
   "id": "improving-genome",
   "metadata": {},
   "outputs": [],
   "source": [
    "# Import required libraries for excecution\n",
    "from gensim import corpora\n",
    "import numpy as np\n",
    "import pandas as pd\n",
    "from scripts.metrics import Metrics\n",
    "metrics = Metrics()"
   ]
  },
  {
   "cell_type": "code",
   "execution_count": 14,
   "id": "novel-visibility",
   "metadata": {},
   "outputs": [],
   "source": [
    "tag_df = pd.read_csv('./data/relevance-judgments.tsv', sep='\\t', header=None, index_col = 0)\n",
    "tag_df.index.name = 'query'\n",
    "tag_df.columns = ['tag']\n",
    "BS_and = pd.read_csv('./results/BS-queries_results_and.tsv', sep='\\t', header=None, index_col = 0)\n",
    "BS_and.index.name = 'query'\n",
    "BS_and.columns = ['BS_and']\n",
    "BS_or = pd.read_csv('./results/BS-queries_results_or.tsv', sep='\\t', header=None, index_col = 0)\n",
    "BS_or.index.name = 'query'\n",
    "BS_or.columns = ['BS_or']\n",
    "# BS_II = pd.read_csv('./results/BSII-OR-queries_results.tsv', sep='\\t', header=None, index_col = 0)\n",
    "# BS_II.index.name = 'query'\n",
    "# BS_II.columns = ['BS_II']"
   ]
  },
  {
   "cell_type": "code",
   "execution_count": 15,
   "id": "artistic-formula",
   "metadata": {},
   "outputs": [],
   "source": [
    "BS_df = pd.concat([BS_and, BS_or], axis = 1)\n",
    "BS_df.fillna('', inplace = True)"
   ]
  },
  {
   "cell_type": "code",
   "execution_count": 16,
   "id": "careful-belize",
   "metadata": {},
   "outputs": [],
   "source": [
    "def convert_to_list(tag):\n",
    "    tag = tag.replace(',','').split('d')[1:]\n",
    "    tag_list = []\n",
    "    for i in tag:\n",
    "        tag_list.append(int(i))\n",
    "    return tag_list\n",
    "\n",
    "def convert_to_evaluation(pred, tag):\n",
    "    for i, doc in enumerate(pred):\n",
    "        if doc in tag:\n",
    "            pred[i] = 1\n",
    "        else:\n",
    "            pred[i] = 0\n",
    "    return pred\n",
    "\n",
    "def read_tag(param):\n",
    "    tag = param.tag\n",
    "    tag = tag.split('d')[1:]\n",
    "    tag_list = []\n",
    "    for i in tag:\n",
    "        tag_list.append(int(i[0:3]))\n",
    "    return tag_list"
   ]
  },
  {
   "cell_type": "code",
   "execution_count": null,
   "id": "successful-newport",
   "metadata": {},
   "outputs": [],
   "source": [
    "BS_df = BS_df.applymap(convert_to_list)\n",
    "tag_df['tag'] = tag_df.apply(read_tag, axis=1)\n",
    "BS_df = pd.concat([BS_df, tag_df], axis=1)"
   ]
  },
  {
   "cell_type": "code",
   "execution_count": null,
   "id": "prescribed-collar",
   "metadata": {},
   "outputs": [],
   "source": []
  }
 ],
 "metadata": {
  "kernelspec": {
   "display_name": "Python 3",
   "language": "python",
   "name": "python3"
  },
  "language_info": {
   "codemirror_mode": {
    "name": "ipython",
    "version": 3
   },
   "file_extension": ".py",
   "mimetype": "text/x-python",
   "name": "python",
   "nbconvert_exporter": "python",
   "pygments_lexer": "ipython3",
   "version": "3.6.9"
  }
 },
 "nbformat": 4,
 "nbformat_minor": 5
}

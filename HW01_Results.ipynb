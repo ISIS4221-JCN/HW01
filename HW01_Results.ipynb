{
 "cells": [
  {
   "cell_type": "markdown",
   "id": "healthy-butter",
   "metadata": {},
   "source": [
    "# HW01 Results"
   ]
  },
  {
   "cell_type": "code",
   "execution_count": 3,
   "id": "improving-genome",
   "metadata": {},
   "outputs": [],
   "source": [
    "# Import required libraries for excecution\n",
    "from gensim import corpora\n",
    "import numpy as np\n",
    "import pandas as pd\n",
    "from scripts.metrics import Metrics"
   ]
  },
  {
   "cell_type": "code",
   "execution_count": 10,
   "id": "novel-visibility",
   "metadata": {},
   "outputs": [],
   "source": [
    "BS_and = pd.read_csv('./results/BS-queries_results_and.tsv', sep='\\t', header=None)\n",
    "BS_or = pd.read_csv('./results/BS-queries_results_or.tsv', sep='\\t', header=None)\n",
    "DDRV = pd.read_csv('./results/RRDV-queries_results.tsv', sep='\\t', header=None)"
   ]
  },
  {
   "cell_type": "code",
   "execution_count": null,
   "id": "vanilla-smell",
   "metadata": {},
   "outputs": [],
   "source": []
  }
 ],
 "metadata": {
  "kernelspec": {
   "display_name": "Python 3",
   "language": "python",
   "name": "python3"
  },
  "language_info": {
   "codemirror_mode": {
    "name": "ipython",
    "version": 3
   },
   "file_extension": ".py",
   "mimetype": "text/x-python",
   "name": "python",
   "nbconvert_exporter": "python",
   "pygments_lexer": "ipython3",
   "version": "3.6.9"
  }
 },
 "nbformat": 4,
 "nbformat_minor": 5
}

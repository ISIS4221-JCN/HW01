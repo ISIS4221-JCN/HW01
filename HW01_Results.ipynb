{
 "cells": [
  {
   "cell_type": "markdown",
   "id": "liked-replica",
   "metadata": {},
   "source": [
    "# HW01 Results"
   ]
  },
  {
   "cell_type": "code",
   "execution_count": 97,
   "id": "smoking-digit",
   "metadata": {},
   "outputs": [],
   "source": [
    "# Import required libraries for excecution\n",
    "from gensim import corpora\n",
    "import numpy as np\n",
    "import matplotlib.pyplot as plt\n",
    "import pandas as pd\n",
    "from scripts.metrics import Metrics\n",
    "metrics = Metrics()"
   ]
  },
  {
   "cell_type": "markdown",
   "id": "brutal-enforcement",
   "metadata": {},
   "source": [
    "## Comparison of BS and BSII"
   ]
  },
  {
   "cell_type": "code",
   "execution_count": 98,
   "id": "powerful-involvement",
   "metadata": {},
   "outputs": [],
   "source": [
    "# Load each Binary Search result file and concatenate them all in one dataframe\n",
    "tag_df = pd.read_csv('./data/relevance-judgments.tsv', sep='\\t', header=None, index_col = 0)\n",
    "tag_df.index.name = 'query'\n",
    "tag_df.columns = ['tag']\n",
    "BS_and = pd.read_csv('./results/BS-queries_results_and.tsv', sep='\\t', header=None, index_col = 0)\n",
    "BS_and.index.name = 'query'\n",
    "BS_and.columns = ['BS_and']\n",
    "BS_or = pd.read_csv('./results/BS-queries_results_or.tsv', sep='\\t', header=None, index_col = 0)\n",
    "BS_or.index.name = 'query'\n",
    "BS_or.columns = ['BS_or']\n",
    "BS_II_and = pd.read_csv('./results/BSII-AND-queries-results.tsv', sep='\\t', header=None, index_col = 0)\n",
    "BS_II_and.index.name = 'query'\n",
    "BS_II_and.columns = ['BS_II_and']\n",
    "BS_II_or = pd.read_csv('./results/BSII-OR-queries-results.tsv', sep='\\t', header=None, index_col = 0)\n",
    "BS_II_or.index.name = 'query'\n",
    "BS_II_or.columns = ['BS_II_or']\n",
    "BS_df = pd.concat([BS_and, BS_or, BS_II_and, BS_II_or], axis = 1)\n",
    "BS_df.fillna('', inplace = True)"
   ]
  },
  {
   "cell_type": "code",
   "execution_count": 99,
   "id": "accompanied-cannon",
   "metadata": {},
   "outputs": [],
   "source": [
    "# Usefull functions\n",
    "def convert_to_list(tag):\n",
    "    \"\"\" Recieves results string containing documents and converts it to a list.\n",
    "    \n",
    "    Args:\n",
    "        tag (str): String with docuemnts 'dXXX,dYYY'\n",
    "    \n",
    "    Returns:\n",
    "        list: Numbers of the docuemnts given as argument\n",
    "    \"\"\"\n",
    "    tag = tag.replace(',','').split('d')[1:]\n",
    "    tag_list = []\n",
    "    for i in tag:\n",
    "        tag_list.append(int(i))\n",
    "    return tag_list\n",
    "\n",
    "\n",
    "def convert_to_evaluation(pred, tag):\n",
    "    \"\"\" Returns list with 1 in the relevant documents and 0 in the irrelevant ones according to tags\n",
    "    \n",
    "    Args:\n",
    "        pred (list): Prediction to be compared with tag\n",
    "        tag (list): List of relevant documents\n",
    "        \n",
    "    Returns:\n",
    "        list: Binary relevant list\n",
    "    \n",
    "    \"\"\"\n",
    "    evaluation = pred.copy()\n",
    "    for i, doc in enumerate(pred):\n",
    "        if doc in tag:\n",
    "            evaluation[i] = 1\n",
    "        else:\n",
    "            evaluation[i] = 0\n",
    "    return evaluation\n",
    "\n",
    "def convert_to_evaluation_relevance(pred, tag, relevance):\n",
    "    \"\"\" Returns list with 1 in the relevant documents and 0 in the irrelevant ones according to tags\n",
    "    \n",
    "    Args:\n",
    "        pred (list): Prediction to be compared with tag\n",
    "        tag (list): List of relevant documents\n",
    "        relevance (list): Relevance of docs in tag\n",
    "        \n",
    "    Returns:\n",
    "        list: Binary relevant list\n",
    "    \n",
    "    \"\"\"\n",
    "    evaluation = pred.copy()\n",
    "    for i, doc in enumerate(pred):\n",
    "        for j, t in enumerate(tag):\n",
    "            if doc == t:\n",
    "                evaluation[i] = relevance[j]\n",
    "                break\n",
    "            else:\n",
    "                evaluation[i] = 0\n",
    "                \n",
    "    return evaluation\n",
    "\n",
    "def read_tag(param):\n",
    "    \"\"\" Parses a tag to keep only doc Ids\n",
    "    \n",
    "    Args:\n",
    "        param (<class 'pandas.core.series.Series'>): Series from pandas.DataFrame with tag information\n",
    "    \n",
    "    \n",
    "    Returns:\n",
    "        list: Numbers of relevant documents \n",
    "    \"\"\"\n",
    "    tag = param.tag\n",
    "    tag = tag.split('d')[1:]\n",
    "    tag_list = []\n",
    "    for i in tag:\n",
    "        tag_list.append(int(i[0:3]))\n",
    "    return tag_list\n",
    "\n",
    "def read_tag_relevance(param):\n",
    "    \"\"\" Parses a tag to keep only relevance of doc\n",
    "    \n",
    "    Args:\n",
    "        param (<class 'pandas.core.series.Series'>): Series from pandas.DataFrame with tag information\n",
    "    \n",
    "    \n",
    "    Returns:\n",
    "        list: Numbers of relevant documents \n",
    "    \"\"\"\n",
    "    tag = param.tag\n",
    "    tag = tag.split(':')[1:]\n",
    "    tag_list = []\n",
    "    for i in tag:\n",
    "        tag_list.append(int(i[0]))\n",
    "    return tag_list\n",
    "\n",
    "def get_f1_score(param, strategy):\n",
    "    \"\"\" Calculates f1-score\n",
    "    \n",
    "    Args:\n",
    "        param (<class 'pandas.core.series.Series'>): Series from pandas.DataFrame with P and R information\n",
    "        strategy (str): Strategy to calculate f1-score\n",
    "    \n",
    "    Returns:\n",
    "        float: f1-score for given case\n",
    "    \"\"\"\n",
    "    if strategy == 'BS_and':\n",
    "        precision = param.precision.BS_and\n",
    "        recall = param.recall.BS_and\n",
    "    if strategy == 'BS_or':\n",
    "        precision = param.precision.BS_or\n",
    "        recall = param.recall.BS_or\n",
    "    if strategy == 'BS_II_and':\n",
    "        precision = param.precision.BS_II_and\n",
    "        recall = param.recall.BS_II_and\n",
    "    if strategy == 'BS_II_or':\n",
    "        precision = param.precision.BS_II_or\n",
    "        recall = param.recall.BS_II_or\n",
    "    if precision + recall > 0:\n",
    "        return 2*(precision*recall)/(precision+recall)\n",
    "    else:\n",
    "        return 0"
   ]
  },
  {
   "cell_type": "code",
   "execution_count": 100,
   "id": "hazardous-nickel",
   "metadata": {},
   "outputs": [],
   "source": [
    "# Apply relevant functions and add tag to main dataframe\n",
    "BS_df = BS_df.applymap(convert_to_list)\n",
    "\n",
    "aux_df = tag_df.copy()\n",
    "\n",
    "tag_df['tag'] = tag_df.apply(read_tag, axis=1)\n",
    "tag_df['relevance'] = aux_df.apply(read_tag_relevance, axis=1)\n",
    "\n",
    "BS_df = pd.concat([BS_df, tag_df], axis=1)"
   ]
  },
  {
   "cell_type": "code",
   "execution_count": 101,
   "id": "visible-diagnosis",
   "metadata": {},
   "outputs": [],
   "source": [
    "# Strategy vector\n",
    "strategies = ['BS_and', 'BS_or', 'BS_II_and', 'BS_II_or']\n",
    "# Creates dataframe with precision for each query and each strategy\n",
    "data = {}\n",
    "for strategy in strategies:\n",
    "    # Loop over strategy vector\n",
    "    precision = []\n",
    "    for query in BS_df.index:\n",
    "        try:\n",
    "            # Use metrics class to calculate precision\n",
    "            precision.append(metrics.precision(\n",
    "                convert_to_evaluation(BS_df.loc[query, strategy], BS_df.loc[query, 'tag'])))\n",
    "        except:\n",
    "            # Exception for empty query\n",
    "            precision.append(0)\n",
    "    # Dictionary to append to data for dataframe\n",
    "    result = {strategy: precision}\n",
    "    # Update dictionary\n",
    "    data.update(result)\n",
    "# Create data frame\n",
    "precision_df = pd.DataFrame(data = data)"
   ]
  },
  {
   "cell_type": "code",
   "execution_count": 102,
   "id": "completed-coordinator",
   "metadata": {},
   "outputs": [],
   "source": [
    "# Creates dataframe with average_precision for each query and each strategy\n",
    "data = {}\n",
    "for strategy in strategies:\n",
    "    # Loop over strategy vector\n",
    "    average_precision = []\n",
    "    for query in BS_df.index:\n",
    "        try:\n",
    "            # Use metrics class to calculate average precision\n",
    "            average_precision.append(metrics.average_precision(\n",
    "                convert_to_evaluation(BS_df.loc[query, strategy], BS_df.loc[query, 'tag'])))\n",
    "        except:\n",
    "            # Exception for empty query\n",
    "            average_precision.append(0)\n",
    "    # Dictionary to append to data for dataframe\n",
    "    result = {strategy: average_precision}\n",
    "    # Update dictionary\n",
    "    data.update(result)\n",
    "# Create data frame\n",
    "average_precision_df = pd.DataFrame(data = data)"
   ]
  },
  {
   "cell_type": "code",
   "execution_count": 103,
   "id": "removed-plastic",
   "metadata": {},
   "outputs": [],
   "source": [
    "# Creates dataframe with recall for each query and each strategy\n",
    "data = {}\n",
    "for strategy in strategies:\n",
    "    # Loop over strategy vector\n",
    "    recall = []\n",
    "    for query in BS_df.index:\n",
    "        try:\n",
    "            # Use metrics to calculate recal at k\n",
    "            recall.append(\n",
    "                metrics.recall_at_k(convert_to_evaluation(BS_df.loc[query, strategy], \n",
    "                BS_df.loc[query, 'tag']), len(BS_df.loc[query, 'tag']), len(BS_df.loc[query, 'tag'])))\n",
    "        except:\n",
    "            # Exception for empty query\n",
    "            recall.append(0)\n",
    "    # Dictionary to append for dataframe\n",
    "    result = {strategy: recall}\n",
    "    # Update dictionary\n",
    "    data.update(result)\n",
    "# Create dateframe\n",
    "recall_df = pd.DataFrame(data = data)\n",
    "# Concatenate 3 metrics dataframes\n",
    "metrics_df = pd.concat([precision_df, average_precision_df, recall_df],\n",
    "                       keys=['precision', 'average precision', 'recall'], axis = 1)"
   ]
  },
  {
   "cell_type": "code",
   "execution_count": 104,
   "id": "chief-chinese",
   "metadata": {},
   "outputs": [],
   "source": [
    "# Apply fucntion to metrics dataframe to get f1-score\n",
    "metrics_df['f1-score','BS_and'] = metrics_df.apply(get_f1_score, axis=1, args=['BS_and'])\n",
    "metrics_df['f1-score','BS_or'] = metrics_df.apply(get_f1_score, axis=1, args=['BS_or'])\n",
    "metrics_df['f1-score','BS_II_and'] = metrics_df.apply(get_f1_score, axis=1, args=['BS_II_and'])\n",
    "metrics_df['f1-score','BS_II_or'] = metrics_df.apply(get_f1_score, axis=1, args=['BS_II_or'])"
   ]
  },
  {
   "cell_type": "code",
   "execution_count": 105,
   "id": "alternative-pregnancy",
   "metadata": {},
   "outputs": [
    {
     "data": {
      "text/plain": [
       "precision          BS_and       0.591410\n",
       "                   BS_or        0.113620\n",
       "                   BS_II_and    0.285220\n",
       "                   BS_II_or     0.113052\n",
       "average precision  BS_and       0.653010\n",
       "                   BS_or        0.189985\n",
       "                   BS_II_and    0.336383\n",
       "                   BS_II_or     0.191064\n",
       "recall             BS_and       0.216849\n",
       "                   BS_or        0.110272\n",
       "                   BS_II_and    0.119592\n",
       "                   BS_II_or     0.110272\n",
       "f1-score           BS_and       0.284335\n",
       "                   BS_or        0.086155\n",
       "                   BS_II_and    0.147634\n",
       "                   BS_II_or     0.085658\n",
       "dtype: float64"
      ]
     },
     "execution_count": 105,
     "metadata": {},
     "output_type": "execute_result"
    }
   ],
   "source": [
    "metrics_df.mean()"
   ]
  },
  {
   "cell_type": "code",
   "execution_count": 106,
   "id": "charming-philippines",
   "metadata": {},
   "outputs": [
    {
     "data": {
      "image/png": "[encoded data removed]",
      "text/plain": [
       "<Figure size 1080x576 with 1 Axes>"
      ]
     },
     "metadata": {
      "needs_background": "light"
     },
     "output_type": "display_data"
    },
    {
     "data": {
      "image/png": "[encoded data removed]",
      "text/plain": [
       "<Figure size 1080x576 with 1 Axes>"
      ]
     },
     "metadata": {
      "needs_background": "light"
     },
     "output_type": "display_data"
    },
    {
     "data": {
      "image/png": "[encoded data removed]",
      "text/plain": [
       "<Figure size 1080x576 with 1 Axes>"
      ]
     },
     "metadata": {
      "needs_background": "light"
     },
     "output_type": "display_data"
    }
   ],
   "source": [
    "plt.figure()\n",
    "metrics_df.loc[:,'average precision'].mean().plot.bar(figsize=(15,8), color=('green'))\n",
    "plt.title('Precision comparison', fontsize=20)\n",
    "plt.xlabel('Strategy', fontsize=15)\n",
    "plt.ylabel('Precision', fontsize=15)\n",
    "plt.savefig('./results/images/BS_precision_comparison.png')\n",
    "plt.figure()\n",
    "metrics_df.loc[:,'recall'].mean().plot.bar(figsize=(15,8), color=('blue'))\n",
    "plt.title('Recall comparison', fontsize=20)\n",
    "plt.xlabel('Strategy', fontsize=15)\n",
    "plt.ylabel('Recall', fontsize=15)\n",
    "plt.savefig('./results/images/BS_recall_comparison.png')\n",
    "plt.figure()\n",
    "metrics_df.loc[:,'f1-score'].mean().plot.bar(figsize=(15,8), color=('red'))\n",
    "plt.title('F1 score comparison', fontsize=20)\n",
    "plt.xlabel('Strategy', fontsize=15)\n",
    "plt.ylabel('F1 score', fontsize=15)\n",
    "plt.savefig('./results/images/BS_f1_comparison.png')"
   ]
  },
  {
   "cell_type": "markdown",
   "id": "worldwide-sheep",
   "metadata": {},
   "source": [
    "## Comparison of RRI, RRDV and Gensim"
   ]
  },
  {
   "cell_type": "code",
   "execution_count": 107,
   "id": "packed-instrument",
   "metadata": {},
   "outputs": [],
   "source": [
    "# Load each Binary Search result file and concatenate them all in one dataframe\n",
    "RRI_df = pd.read_csv('./results/RRI-queries_results.tsv', sep='\\t', header=None, index_col = 0)\n",
    "RRI_df.index.name = 'query'\n",
    "RRI_df.columns = ['RRI']\n",
    "\n",
    "RRDV_df = pd.read_csv('./results/RRDV-queries_results.tsv', sep='\\t', header=None, index_col = 0)\n",
    "RRDV_df.index.name = 'query'\n",
    "RRDV_df.columns = ['RRDV']\n",
    "\n",
    "Gensim_df = pd.read_csv('./results/GENSIM-queries_results.tsv', sep='\\t', header=None, index_col = 0)\n",
    "Gensim_df.index.name = 'query'\n",
    "Gensim_df.columns = ['Gensim']\n",
    "\n",
    "Ranked_df = pd.concat([RRI_df, RRDV_df, Gensim_df], axis = 1)"
   ]
  },
  {
   "cell_type": "code",
   "execution_count": 108,
   "id": "legislative-dominican",
   "metadata": {},
   "outputs": [],
   "source": [
    "\n",
    "# Apply relevant functions and add tag to main dataframe\n",
    "Ranked_df = Ranked_df.applymap(convert_to_list)\n",
    "Ranked_df = pd.concat([Ranked_df, tag_df], axis=1)"
   ]
  },
  {
   "cell_type": "code",
   "execution_count": 109,
   "id": "frequent-strand",
   "metadata": {},
   "outputs": [],
   "source": [
    "# P@M\n",
    "\n",
    "# Strategy vector\n",
    "strategies = ['RRI', 'RRDV', 'Gensim']\n",
    "\n",
    "# Creates dataframe with precision for each query and each strategy\n",
    "data = {}\n",
    "for strategy in strategies:\n",
    "    # Loop over strategy vector\n",
    "    precision = []\n",
    "    for query in Ranked_df.index:\n",
    "        try:\n",
    "            # Use metrics class to calculate precision\n",
    "            precision.append(metrics.precision_at_k(\n",
    "                convert_to_evaluation(Ranked_df.loc[query, strategy], \n",
    "                                      Ranked_df.loc[query, 'tag']), len(Ranked_df.loc[query, 'tag'])))\n",
    "        except:\n",
    "            # Exception for empty query\n",
    "            precision.append(0)\n",
    "    # Dictionary to append to data for dataframe\n",
    "    result = {strategy: precision}\n",
    "    # Update dictionary\n",
    "    data.update(result)\n",
    "\n",
    "# Create data frame\n",
    "ranked_precision_df = pd.DataFrame(data = data)"
   ]
  },
  {
   "cell_type": "code",
   "execution_count": 110,
   "id": "hidden-conservation",
   "metadata": {},
   "outputs": [],
   "source": [
    "# R@M\n",
    "\n",
    "# Creates dataframe with precision for each query and each strategy\n",
    "data = {}\n",
    "for strategy in strategies:\n",
    "    # Loop over strategy vector\n",
    "    recall = []\n",
    "    for query in Ranked_df.index:\n",
    "        try:\n",
    "            # Use metrics class to calculate precision\n",
    "            recall.append(metrics.recall_at_k(\n",
    "                convert_to_evaluation(Ranked_df.loc[query, strategy], \n",
    "                                      Ranked_df.loc[query, 'tag']), len(Ranked_df.loc[query, 'tag']), len(Ranked_df.loc[query, 'tag'])))\n",
    "        except:\n",
    "            # Exception for empty query\n",
    "            recall.append(0)\n",
    "    # Dictionary to append to data for dataframe\n",
    "    result = {strategy: recall}\n",
    "    # Update dictionary\n",
    "    data.update(result)\n",
    "\n",
    "# Create data frame\n",
    "ranked_recall_df = pd.DataFrame(data = data)"
   ]
  },
  {
   "cell_type": "code",
   "execution_count": 111,
   "id": "conceptual-prototype",
   "metadata": {},
   "outputs": [],
   "source": [
    "# Average Precision\n",
    "\n",
    "# Creates dataframe with average_precision for each query and each strategy\n",
    "data = {}\n",
    "for strategy in strategies:\n",
    "    # Loop over strategy vector\n",
    "    average_precision = []\n",
    "    for query in Ranked_df.index:\n",
    "        try:\n",
    "            # Use metrics class to calculate average precision\n",
    "            average_precision.append(metrics.average_precision(\n",
    "                convert_to_evaluation(Ranked_df.loc[query, strategy], Ranked_df.loc[query, 'tag'])))\n",
    "        except:\n",
    "            # Exception for empty query\n",
    "            average_precision.append(0)\n",
    "    # Dictionary to append to data for dataframe\n",
    "    result = {strategy: average_precision}\n",
    "    # Update dictionary\n",
    "    data.update(result)\n",
    "    \n",
    "# Create data frame\n",
    "ranked_average_precision_df = pd.DataFrame(data = data)"
   ]
  },
  {
   "cell_type": "code",
   "execution_count": 112,
   "id": "contained-toolbox",
   "metadata": {},
   "outputs": [],
   "source": [
    "# NDGC@M\n",
    "\n",
    "# Creates dataframe with average_precision for each query and each strategy\n",
    "data = {}\n",
    "for strategy in strategies:\n",
    "    # Loop over strategy vector\n",
    "    ndcg = []\n",
    "    for query in Ranked_df.index:\n",
    "        try:\n",
    "            # Use metrics class to calculate average precision\n",
    "            ndcg.append(metrics.NDCG(\n",
    "                convert_to_evaluation_relevance(Ranked_df.loc[query, strategy], \n",
    "                                                Ranked_df.loc[query, 'tag'], \n",
    "                                                Ranked_df.loc[query, 'relevance']), len(Ranked_df.loc[query, 'tag'])))\n",
    "        except:\n",
    "            # Exception for empty query\n",
    "            ndcg.append(0)\n",
    "    # Dictionary to append to data for dataframe\n",
    "    result = {strategy: ndcg}\n",
    "    # Update dictionary\n",
    "    data.update(result)\n",
    "    \n",
    "# Create data frame\n",
    "ranked_ndcg_df = pd.DataFrame(data = data)"
   ]
  },
  {
   "cell_type": "code",
   "execution_count": 113,
   "id": "induced-conviction",
   "metadata": {},
   "outputs": [
    {
     "name": "stdout",
     "output_type": "stream",
     "text": [
      "MEAN: \n"
     ]
    },
    {
     "data": {
      "text/plain": [
       "P@M     RRI       0.628703\n",
       "        RRDV      0.592329\n",
       "        Gensim    0.595526\n",
       "R@M     RRI       0.614418\n",
       "        RRDV      0.578044\n",
       "        Gensim    0.581240\n",
       "NDCG@M  RRI       0.731693\n",
       "        RRDV      0.696736\n",
       "        Gensim    0.661810\n",
       "MAP     RRI       0.734017\n",
       "        RRDV      0.697172\n",
       "        Gensim    0.659150\n",
       "dtype: float64"
      ]
     },
     "execution_count": 113,
     "metadata": {},
     "output_type": "execute_result"
    }
   ],
   "source": [
    "# Concatenate 4 metrics dataframes\n",
    "ranked_metrics_df = pd.concat([ranked_precision_df, ranked_recall_df, ranked_ndcg_df, ranked_average_precision_df],\n",
    "                       keys=['P@M', 'R@M', 'NDCG@M','MAP'], axis = 1)\n",
    "\n",
    "# Mean\n",
    "print(\"MEAN: \")\n",
    "ranked_metrics_df.mean()"
   ]
  },
  {
   "cell_type": "code",
   "execution_count": 114,
   "id": "adjacent-seller",
   "metadata": {},
   "outputs": [
    {
     "data": {
      "text/plain": [
       "<AxesSubplot:>"
      ]
     },
     "execution_count": 114,
     "metadata": {},
     "output_type": "execute_result"
    },
    {
     "data": {
      "image/png": "[encoded data removed]",
      "text/plain": [
       "<Figure size 432x288 with 1 Axes>"
      ]
     },
     "metadata": {
      "needs_background": "light"
     },
     "output_type": "display_data"
    }
   ],
   "source": [
    "ranked_metrics_df.mean().plot.bar()"
   ]
  },
  {
   "cell_type": "code",
   "execution_count": 115,
   "id": "suited-colonial",
   "metadata": {},
   "outputs": [
    {
     "data": {
      "image/png": "[encoded data removed]",
      "text/plain": [
       "<Figure size 1080x576 with 1 Axes>"
      ]
     },
     "metadata": {
      "needs_background": "light"
     },
     "output_type": "display_data"
    }
   ],
   "source": [
    "# Retrieve P@M values for each strategies \n",
    "RRI_Precision = ranked_metrics_df['P@M']['RRI'].values\n",
    "RRDV_Precision = ranked_metrics_df['P@M']['RRDV'].values\n",
    "Gensim_Precision = ranked_metrics_df['P@M']['Gensim'].values\n",
    "\n",
    "# Plot\n",
    "x = np.arange(35)\n",
    "width = 0.35  # the width of the bars\n",
    "\n",
    "fig, ax = plt.subplots(figsize=(15,8))\n",
    "rects1 = ax.bar(x - width, RRI_Precision, width, label='RRI')\n",
    "rects2 = ax.bar(x, RRDV_Precision, width, label='RRDV')\n",
    "rects2 = ax.bar(x + width, Gensim_Precision, width, label='Gensim')\n",
    "\n",
    "# Add some text for labels, title and custom x-axis tick labels, etc.\n",
    "ax.set_title('Precision@M for all the queries', fontsize=20)\n",
    "ax.set_ylabel('P@M', fontsize=15)\n",
    "ax.set_xlabel('Query', fontsize=15)\n",
    "ax.set_xticks(x)\n",
    "ax.legend()\n",
    "plt.savefig('./results/images/P@M_Ranked.png')\n",
    "plt.show()"
   ]
  },
  {
   "cell_type": "code",
   "execution_count": 116,
   "id": "common-cookie",
   "metadata": {},
   "outputs": [
    {
     "data": {
      "image/png": "[encoded data removed]",
      "text/plain": [
       "<Figure size 1080x576 with 1 Axes>"
      ]
     },
     "metadata": {
      "needs_background": "light"
     },
     "output_type": "display_data"
    }
   ],
   "source": [
    "# Retrieve R@M values for each strategies \n",
    "RRI_Precision = ranked_metrics_df['R@M']['RRI'].values\n",
    "RRDV_Precision = ranked_metrics_df['R@M']['RRDV'].values\n",
    "Gensim_Precision = ranked_metrics_df['R@M']['Gensim'].values\n",
    "\n",
    "# Plot\n",
    "x = np.arange(35)\n",
    "width = 0.35  # the width of the bars\n",
    "\n",
    "fig, ax = plt.subplots(figsize=(15,8))\n",
    "rects1 = ax.bar(x - width, RRI_Precision, width, label='RRI')\n",
    "rects2 = ax.bar(x, RRDV_Precision, width, label='RRDV')\n",
    "rects2 = ax.bar(x + width, Gensim_Precision, width, label='Gensim')\n",
    "\n",
    "# Add some text for labels, title and custom x-axis tick labels, etc.\n",
    "ax.set_title('Recall@M for all the queries', fontsize=20)\n",
    "ax.set_ylabel('R@M', fontsize=15)\n",
    "ax.set_xlabel('Query', fontsize=15)\n",
    "ax.set_xticks(x)\n",
    "ax.legend()\n",
    "plt.savefig('./results/images/R@M_Ranked.png')\n",
    "plt.show()"
   ]
  },
  {
   "cell_type": "code",
   "execution_count": 117,
   "id": "constitutional-barrier",
   "metadata": {},
   "outputs": [
    {
     "data": {
      "image/png": "[encoded data removed]",
      "text/plain": [
       "<Figure size 1080x576 with 1 Axes>"
      ]
     },
     "metadata": {
      "needs_background": "light"
     },
     "output_type": "display_data"
    }
   ],
   "source": [
    "# Retrieve NDCG@M values for each strategies \n",
    "RRI_Precision = ranked_metrics_df['NDCG@M']['RRI'].values\n",
    "RRDV_Precision = ranked_metrics_df['NDCG@M']['RRDV'].values\n",
    "Gensim_Precision = ranked_metrics_df['NDCG@M']['Gensim'].values\n",
    "\n",
    "# Plot\n",
    "x = np.arange(35)\n",
    "width = 0.35  # the width of the bars\n",
    "\n",
    "fig, ax = plt.subplots(figsize=(15,8))\n",
    "rects1 = ax.bar(x - width, RRI_Precision, width, label='RRI')\n",
    "rects2 = ax.bar(x, RRDV_Precision, width, label='RRDV')\n",
    "rects2 = ax.bar(x + width, Gensim_Precision, width, label='Gensim')\n",
    "\n",
    "# Add some text for labels, title and custom x-axis tick labels, etc.\n",
    "ax.set_title('NDCG@M for all the queries', fontsize=20)\n",
    "ax.set_ylabel('NDCG@M', fontsize=15)\n",
    "ax.set_xlabel('Query', fontsize=15)\n",
    "ax.set_xticks(x)\n",
    "ax.legend()\n",
    "plt.savefig('./results/images/NDCG@M_Ranked.png')\n",
    "plt.show()"
   ]
  }
 ],
 "metadata": {
  "kernelspec": {
   "display_name": "Python 3",
   "language": "python",
   "name": "python3"
  },
  "language_info": {
   "codemirror_mode": {
    "name": "ipython",
    "version": 3
   },
   "file_extension": ".py",
   "mimetype": "text/x-python",
   "name": "python",
   "nbconvert_exporter": "python",
   "pygments_lexer": "ipython3",
   "version": "3.6.9"
  }
 },
 "nbformat": 4,
 "nbformat_minor": 5
}

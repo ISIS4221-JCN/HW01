{
 "cells": [
  {
   "cell_type": "markdown",
   "id": "official-tomorrow",
   "metadata": {},
   "source": [
    "# HW1 Binary Search (BS)"
   ]
  },
  {
   "cell_type": "markdown",
   "id": "directed-offering",
   "metadata": {},
   "source": [
    "## Load data"
   ]
  },
  {
   "cell_type": "code",
   "execution_count": 1,
   "id": "atmospheric-inventory",
   "metadata": {},
   "outputs": [],
   "source": [
    "# Import required libraries for excecution\n",
    "from gensim import corpora\n",
    "import numpy as np\n",
    "import pandas as pd\n",
    "import time"
   ]
  },
  {
   "cell_type": "code",
   "execution_count": 2,
   "id": "stupid-stress",
   "metadata": {},
   "outputs": [],
   "source": [
    "# Load dictionary, doc_corpus, query_corpus and df with tags\n",
    "dictionary = corpora.Dictionary.load('resources/vocab.dict')\n",
    "doc_corpus = corpora.MmCorpus('resources/doc_corpus.mm')\n",
    "query_corpus = corpora.MmCorpus('resources/query_corpus.mm')\n",
    "df = pd.read_csv('./data/relevance-judgments.tsv', sep='\\t', header=None)\n",
    "df.columns = ['query', 'doc']"
   ]
  },
  {
   "cell_type": "markdown",
   "id": "annoying-empire",
   "metadata": {},
   "source": [
    "## Binary matrix"
   ]
  },
  {
   "cell_type": "code",
   "execution_count": 3,
   "id": "simplified-founder",
   "metadata": {},
   "outputs": [
    {
     "name": "stdout",
     "output_type": "stream",
     "text": [
      "(17365, 331)\n"
     ]
    }
   ],
   "source": [
    "# Create binary matrix\n",
    "matrix = np.zeros((len(doc_corpus), len(dictionary)), dtype = np.bool_)\n",
    "for i in range(0, len(doc_corpus)):\n",
    "    for j in range(0, len(doc_corpus[i])):\n",
    "        matrix[i, doc_corpus[i][j][0]] = True\n",
    "matrix = matrix.transpose()\n",
    "np.save('./resources/BSmatrix.npy', matrix)\n",
    "matrix = np.load('./resources/BSmatrix.npy')\n",
    "print(matrix.shape)"
   ]
  },
  {
   "cell_type": "markdown",
   "id": "determined-kidney",
   "metadata": {},
   "source": [
    "## Binary search"
   ]
  },
  {
   "cell_type": "code",
   "execution_count": 4,
   "id": "early-antique",
   "metadata": {},
   "outputs": [],
   "source": [
    "def binary_search(matrix, query, logical_op):\n",
    "    \"\"\" Returns a matrix with relevant documents based on a query according to binary search method.\n",
    "    \n",
    "    Args:\n",
    "        matrix (numpy.ndarray): binary matrix with document ando word information\n",
    "        query (list): words contained in the query\n",
    "    \n",
    "    Returns:\n",
    "        list: with relevant documents according to query\n",
    "    \n",
    "    \"\"\"\n",
    "    \n",
    "    # Convert query to binary vector\n",
    "    query_vector = np.zeros((1, len(dictionary)))\n",
    "    for i in query:\n",
    "        query_vector[0,i[0]] = True\n",
    "    \n",
    "    # Create empty list to gather revelvant documents\n",
    "    result_list = []\n",
    "    for i in range(0, len(doc_corpus)):\n",
    "        \n",
    "        # Logical AND - OR between matrix and query vector\n",
    "        vec = np.nonzero((np.logical_and(query_vector[0], matrix[:,i])))[0]\n",
    "        vec1 = np.nonzero(query_vector[0])[0]\n",
    "        if logical_op == 'OR':\n",
    "            if len(vec) > 0:\n",
    "                result_list.append(i + 1)\n",
    "        elif logical_op == 'AND':\n",
    "            if len(vec) == len(vec1):\n",
    "                result_list.append(i + 1)\n",
    "    return result_list"
   ]
  },
  {
   "cell_type": "markdown",
   "id": "chinese-victor",
   "metadata": {},
   "source": [
    "## Querying"
   ]
  },
  {
   "cell_type": "code",
   "execution_count": 5,
   "id": "flush-lightweight",
   "metadata": {
    "scrolled": true
   },
   "outputs": [],
   "source": [
    "\"\"\" Runs binary search for each query\n",
    "\n",
    "Args:\n",
    "    query_corpus (gensim.corpora.mmcorpus.MmCorpus): corpus with the queries. \n",
    "    df (pandas.core.frame.DataFrame): Dataframe with read queries.\n",
    "    \n",
    "Returns:\n",
    "    df (pandas.core.frame.DataFrame): Dataframe with new column with resulting documents for each query.\n",
    "\"\"\"\n",
    "df_results = []\n",
    "for query in query_corpus:\n",
    "    result_list = ''\n",
    "    results = binary_search(matrix, query, 'AND')\n",
    "    for result in results:\n",
    "        result_list = result_list + 'd' + str(f'{result:03}') + ','\n",
    "    df_results.append(result_list[:-1])\n",
    "df['results'] = df_results\n",
    "df = df.set_index('query')\n",
    "# drop column and export tsv file with results\n",
    "df.drop('doc', axis=1).to_csv('./results/BS-queries_results_and.tsv', sep='\\t', header=False)"
   ]
  },
  {
   "cell_type": "code",
   "execution_count": 6,
   "id": "trying-topic",
   "metadata": {},
   "outputs": [],
   "source": [
    "\"\"\" Runs binary search for each query\n",
    "\n",
    "Args:\n",
    "    query_corpus (gensim.corpora.mmcorpus.MmCorpus): corpus with the queries. \n",
    "    df (pandas.core.frame.DataFrame): Dataframe with read queries.\n",
    "    \n",
    "Returns:\n",
    "    df (pandas.core.frame.DataFrame): Dataframe with new column with resulting documents for each query.\n",
    "\"\"\"\n",
    "df_results = []\n",
    "for query in query_corpus:\n",
    "    result_list = ''\n",
    "    results = binary_search(matrix, query, 'OR')\n",
    "    for result in results:\n",
    "        result_list = result_list + 'd' + str(f'{result:03}') + ','\n",
    "    df_results.append(result_list[:-1])\n",
    "df['results'] = df_results\n",
    "# drop column and export tsv file with results\n",
    "df.drop('doc', axis=1).to_csv('./results/BS-queries_results_or.tsv', sep='\\t', header=False)"
   ]
  },
  {
   "cell_type": "code",
   "execution_count": 7,
   "id": "sharing-tournament",
   "metadata": {},
   "outputs": [
    {
     "name": "stdout",
     "output_type": "stream",
     "text": [
      "Average time BS_and: 1.558 s\n",
      "Average time BS_or: 1.572 s\n"
     ]
    }
   ],
   "source": [
    "# Measures time spent to exceute each binary search (and, or) over all queries and averages over 30 runs\n",
    "samples = 10\n",
    "initial_time = time.time()\n",
    "for i in range(0, samples):\n",
    "    for query in query_corpus:\n",
    "        results = binary_search(matrix, query, 'AND')\n",
    "total_time = time.time() - initial_time\n",
    "print('Average time BS_and: %.3fs' %(total_time/samples))\n",
    "\n",
    "initial_time = time.time()\n",
    "for i in range(0, samples):\n",
    "    for query in query_corpus:\n",
    "        results = binary_search(matrix, query, 'OR')\n",
    "total_time = time.time() - initial_time\n",
    "print('Average time BS_or: %.3f s' %(total_time/samples))"
   ]
  }
 ],
 "metadata": {
  "kernelspec": {
   "display_name": "Python 3",
   "language": "python",
   "name": "python3"
  },
  "language_info": {
   "codemirror_mode": {
    "name": "ipython",
    "version": 3
   },
   "file_extension": ".py",
   "mimetype": "text/x-python",
   "name": "python",
   "nbconvert_exporter": "python",
   "pygments_lexer": "ipython3",
   "version": "3.6.9"
  }
 },
 "nbformat": 4,
 "nbformat_minor": 5
}

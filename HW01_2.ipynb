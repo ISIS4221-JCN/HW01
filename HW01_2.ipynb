{
 "cells": [
  {
   "cell_type": "markdown",
   "id": "official-tomorrow",
   "metadata": {},
   "source": [
    "# HW1 Binary Search (BS)"
   ]
  },
  {
   "cell_type": "code",
   "execution_count": 1,
   "id": "atmospheric-inventory",
   "metadata": {},
   "outputs": [],
   "source": [
    "# Import required libraries for excecution\n",
    "from gensim import corpora\n",
    "import numpy as np\n",
    "import pandas as pd"
   ]
  },
  {
   "cell_type": "code",
   "execution_count": 2,
   "id": "stupid-stress",
   "metadata": {},
   "outputs": [],
   "source": [
    "# Load dictionary, doc_corpus, query_corpus and df with tags\n",
    "dictionary = corpora.Dictionary.load('vocab.dict')\n",
    "doc_corpus = corpora.MmCorpus(\"doc_corpus.mm\")\n",
    "query_corpus = corpora.MmCorpus(\"query_corpus.mm\")\n",
    "df = pd.read_csv('./data/relevance-judgments.tsv', sep='\\t', header=None)\n",
    "df.columns = ['query', 'doc']"
   ]
  },
  {
   "cell_type": "code",
   "execution_count": 3,
   "id": "simplified-founder",
   "metadata": {},
   "outputs": [],
   "source": [
    "# Create binary matrix\n",
    "matrix = np.zeros((len(doc_corpus), len(dictionary)), dtype = np.bool_)\n",
    "for i in range(0, len(doc_corpus)):\n",
    "    for j in range(0, len(doc_corpus[i])):\n",
    "        matrix[i, doc_corpus[i][j][0]] = True"
   ]
  },
  {
   "cell_type": "code",
   "execution_count": 4,
   "id": "early-antique",
   "metadata": {},
   "outputs": [],
   "source": [
    "def binary_search(matrix, query):\n",
    "    \"\"\" Returns a matrix with relevant documents based on a query according to binary search method.\n",
    "    \n",
    "    Args:\n",
    "        matrix (numpy.ndarray): binary matrix with document ando word information\n",
    "        query (list): words contained in the query\n",
    "    \n",
    "    Returns:\n",
    "        list: with relevant documents according to query\n",
    "    \n",
    "    \"\"\"\n",
    "    \n",
    "    # Convert query to binary vector\n",
    "    query_vector = np.zeros((1, len(dictionary)))\n",
    "    for i in query:\n",
    "        query_vector[0,i[0]] = True\n",
    "    \n",
    "    # Create empty list to gather revelvant documents\n",
    "    result_list = []\n",
    "    for i in range(0, len(doc_corpus)):\n",
    "        \n",
    "        # Logical AND - OR between matrix and query vector\n",
    "        if (np.logical_and(query_vector[0], matrix[i, :])).any():\n",
    "            result_list.append(i + 1)\n",
    "    return result_list"
   ]
  },
  {
   "cell_type": "code",
   "execution_count": 5,
   "id": "medical-office",
   "metadata": {},
   "outputs": [],
   "source": [
    "def convert_to_evaluation(binary_result, query):\n",
    "    \"\"\" Returns a vector in format to use evaluation metrics.\n",
    "    \n",
    "    Args:\n",
    "        binary_result (list): Result to the binary search\n",
    "        query (int): Number of the query to be compared with\n",
    "    \n",
    "    Returns:\n",
    "        list: relevant documents in format for evaluation metrics\n",
    "    \"\"\"\n",
    "    \n",
    "    # Empty list to gather relevant document numbers\n",
    "    tag = []\n",
    "    for i in df['doc'][query].split(','):\n",
    "        tag.append(int(i.split(':')[0].split('d')[1]))\n",
    "        \n",
    "    # Create the evaluation list\n",
    "    evaluation = np.zeros(len(binary_result))\n",
    "    for i in range(0, len(binary_result)):\n",
    "        if binary_result[i] in tag:\n",
    "            evaluation[i] = 1\n",
    "    return evaluation"
   ]
  }
 ],
 "metadata": {
  "kernelspec": {
   "display_name": "Python 3",
   "language": "python",
   "name": "python3"
  },
  "language_info": {
   "codemirror_mode": {
    "name": "ipython",
    "version": 3
   },
   "file_extension": ".py",
   "mimetype": "text/x-python",
   "name": "python",
   "nbconvert_exporter": "python",
   "pygments_lexer": "ipython3",
   "version": "3.6.9"
  }
 },
 "nbformat": 4,
 "nbformat_minor": 5
}

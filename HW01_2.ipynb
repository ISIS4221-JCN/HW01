{
 "cells": [
  {
   "cell_type": "markdown",
   "id": "official-tomorrow",
   "metadata": {},
   "source": [
    "# Binary Search (BS)"
   ]
  },
  {
   "cell_type": "code",
   "execution_count": 1,
   "id": "atmospheric-inventory",
   "metadata": {},
   "outputs": [],
   "source": [
    "from gensim import corpora\n",
    "import numpy as np\n",
    "import pandas as pd"
   ]
  },
  {
   "cell_type": "code",
   "execution_count": 2,
   "id": "received-intensity",
   "metadata": {},
   "outputs": [],
   "source": [
    "dictionary = corpora.Dictionary.load('vocab.dict')\n",
    "doc_corpus = corpora.MmCorpus(\"doc_corpus.mm\")\n",
    "query_corpus = corpora.MmCorpus(\"query_corpus.mm\")\n",
    "df = pd.read_csv('./data/relevance-judgments.tsv', sep='\\t', header=None)\n",
    "df.columns = ['query', 'doc']"
   ]
  },
  {
   "cell_type": "code",
   "execution_count": 3,
   "id": "guided-buffalo",
   "metadata": {},
   "outputs": [],
   "source": [
    "matrix = np.zeros((len(doc_corpus), len(dictionary)), dtype = np.bool_)\n",
    "for i in range(0, len(doc_corpus)):\n",
    "    for j in range(0, len(doc_corpus[i])):\n",
    "        matrix[i, doc_corpus[i][j][0]] = True"
   ]
  },
  {
   "cell_type": "code",
   "execution_count": 4,
   "id": "cognitive-principal",
   "metadata": {},
   "outputs": [],
   "source": [
    "def binary_search(matrix, query):\n",
    "    query_vector = np.zeros((1, len(dictionary)))\n",
    "    for i in query:\n",
    "        query_vector[0,i[0]] = True\n",
    "    result_list = []\n",
    "    for i in range(0, len(doc_corpus)):\n",
    "        if (np.logical_and(query_vector[0], matrix[i, :])).any():\n",
    "            result_list.append(i + 1)\n",
    "    return result_list"
   ]
  },
  {
   "cell_type": "code",
   "execution_count": 78,
   "id": "attractive-realtor",
   "metadata": {},
   "outputs": [],
   "source": [
    "def convert_to_evaluation(binary_result, query):\n",
    "    tag = []\n",
    "    for i in df['doc'][query].split(','):\n",
    "        tag.append(int(i.split(':')[0].split('d')[1]))\n",
    "    print(tag)\n",
    "    evaluation = np.zeros(len(binary_result))\n",
    "    for i in range(0, len(binary_result)):\n",
    "        if binary_result[i] in tag:\n",
    "            evaluation[i] = 1\n",
    "    return evaluation"
   ]
  },
  {
   "cell_type": "code",
   "execution_count": null,
   "id": "contrary-trash",
   "metadata": {},
   "outputs": [],
   "source": []
  }
 ],
 "metadata": {
  "kernelspec": {
   "display_name": "Python 3",
   "language": "python",
   "name": "python3"
  },
  "language_info": {
   "codemirror_mode": {
    "name": "ipython",
    "version": 3
   },
   "file_extension": ".py",
   "mimetype": "text/x-python",
   "name": "python",
   "nbconvert_exporter": "python",
   "pygments_lexer": "ipython3",
   "version": "3.6.9"
  }
 },
 "nbformat": 4,
 "nbformat_minor": 5
}

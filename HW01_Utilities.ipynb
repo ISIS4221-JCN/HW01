{
 "cells": [
  {
   "cell_type": "markdown",
   "id": "involved-hudson",
   "metadata": {},
   "source": [
    "# Utilities"
   ]
  },
  {
   "cell_type": "code",
   "execution_count": 1,
   "id": "automatic-transaction",
   "metadata": {},
   "outputs": [],
   "source": [
    "from xml.dom import minidom\n",
    "import os\n",
    "import nltk\n",
    "from gensim.parsing.porter import PorterStemmer\n",
    "from gensim.parsing.preprocessing import remove_stopwords\n",
    "from gensim import corpora\n",
    "from gensim import models\n",
    "from gensim import similarities\n",
    "from smart_open import smart_open"
   ]
  },
  {
   "cell_type": "code",
   "execution_count": 2,
   "id": "ancient-gathering",
   "metadata": {},
   "outputs": [],
   "source": [
    "def read_file(path):\n",
    "    \"\"\" Read each naf file and save doc_id, title and text.\n",
    "    \n",
    "    Args:\n",
    "        path (str): path to naf file.\n",
    "    \n",
    "    Returns:\n",
    "        dict: dictionary with doc_id, title and text.\n",
    "    \n",
    "    \"\"\"\n",
    "    \n",
    "    # Parses naf file from path\n",
    "    my_doc = minidom.parse(path)\n",
    "    \n",
    "    # Extract elements from parsed naf file\n",
    "    doc_id = my_doc.getElementsByTagName('public')[0].attributes['publicId'].value    \n",
    "    title = my_doc.getElementsByTagName('fileDesc')[0].attributes['title'].value\n",
    "    text = my_doc.getElementsByTagName('raw')[0].firstChild.data\n",
    "    \n",
    "    # Returns dictionary\n",
    "    return {\n",
    "        'title':title,\n",
    "        'doc_id': doc_id,\n",
    "        'text': text\n",
    "    }"
   ]
  },
  {
   "cell_type": "code",
   "execution_count": 3,
   "id": "electronic-impression",
   "metadata": {},
   "outputs": [],
   "source": [
    "\"\"\" Creates dictionary with retrieved file's information (doc_id, title, text)\n",
    "\n",
    "Args:\n",
    "    base_path (str): path to naf files.\n",
    "\n",
    "Returns:\n",
    "    doc_list: list with dictionary per naf file.\n",
    "\n",
    "\"\"\"\n",
    "base_path = './data/docs-raw-texts'\n",
    "doc_files = os.listdir(base_path)\n",
    "doc_list = []\n",
    "for i in doc_files:\n",
    "    doc_list.append(read_file(base_path + '/' + i))"
   ]
  },
  {
   "cell_type": "code",
   "execution_count": 4,
   "id": "abroad-population",
   "metadata": {},
   "outputs": [],
   "source": [
    "def process(p, tokenizer, text):\n",
    "    \"\"\" Applies standard pre-processing to given text.\n",
    "    \n",
    "    Args:\n",
    "        p (gensim.parsing.porter.PorterStemmer): stemmer object.\n",
    "        tokenizer (nltk.tokenize.regexp.RegexpTokenizer): tokenizr object.\n",
    "        text (str): text to preprocess.\n",
    "    \n",
    "    Returns:\n",
    "        list: preprocessed text.\n",
    "    \n",
    "    \"\"\"\n",
    "    # Converts to lowercase\n",
    "    doc_nor = text.lower()\n",
    "    \n",
    "    # Removes stopwords\n",
    "    doc_sw = remove_stopwords(doc_nor)\n",
    "    \n",
    "    # Stems text\n",
    "    doc_stem = p.stem_sentence(doc_sw)\n",
    "    \n",
    "    # Lemmatizes text\n",
    "    # TODO: Lemmatizer\n",
    "    \n",
    "    # Returns preprocessed text\n",
    "    return tokenizer.tokenize(doc_stem)"
   ]
  },
  {
   "cell_type": "code",
   "execution_count": 5,
   "id": "colored-bracelet",
   "metadata": {},
   "outputs": [],
   "source": [
    "\"\"\" Creates dictionary object and file from preprocessed text.\n",
    "\n",
    "Args:\n",
    "    doc_list (list): list with dictionary per naf file.\n",
    "\n",
    "Returs:\n",
    "    gensim.corpora.dictionary.Dictionary: complete dictionary.\n",
    "\n",
    "\"\"\"\n",
    "\n",
    "# Creates PorterStemmer instance.\n",
    "p = PorterStemmer()\n",
    "\n",
    "# Creates RegexpTokenizer (removes punctuation signs)\n",
    "tokenizer = nltk.RegexpTokenizer(r'\\w+')\n",
    "\n",
    "docDict = []\n",
    "for doc in doc_list:\n",
    "    docDict.append(process(p, tokenizer, doc['title'] + doc['text']))\n",
    "dictionary = corpora.Dictionary(docDict)\n",
    "dictionary.save('vocab.dict')"
   ]
  },
  {
   "cell_type": "code",
   "execution_count": 6,
   "id": "ethical-swedish",
   "metadata": {},
   "outputs": [],
   "source": [
    "\"\"\" Creates corpus efficiently based on doc_list\n",
    "\n",
    "Args:\n",
    "    doc_list (list): list with dictionary per naf file.\n",
    "    \n",
    "Returns: \n",
    "    (gensim.corpora.mmcorpus.MmCorpus): corpus file\n",
    "\n",
    "\"\"\"\n",
    "\n",
    "corpus = []\n",
    "for doc in doc_list:\n",
    "    corpus.append(dictionary.doc2bow(process(p, tokenizer, doc['title'] + doc['text'])))\n",
    "\n",
    "# Serializes and saves dictionary file\n",
    "corpora.MmCorpus.serialize(\"corpus.mm\",corpus)"
   ]
  }
 ],
 "metadata": {
  "kernelspec": {
   "display_name": "Python 3",
   "language": "python",
   "name": "python3"
  },
  "language_info": {
   "codemirror_mode": {
    "name": "ipython",
    "version": 3
   },
   "file_extension": ".py",
   "mimetype": "text/x-python",
   "name": "python",
   "nbconvert_exporter": "python",
   "pygments_lexer": "ipython3",
   "version": "3.6.9"
  }
 },
 "nbformat": 4,
 "nbformat_minor": 5
}

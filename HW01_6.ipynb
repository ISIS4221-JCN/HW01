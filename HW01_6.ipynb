{
 "cells": [
  {
   "cell_type": "markdown",
   "metadata": {},
   "source": [
    "# HW01 Gensim Corpus and Tfidf Model"
   ]
  },
  {
   "cell_type": "markdown",
   "metadata": {},
   "source": [
    "## Import Data"
   ]
  },
  {
   "cell_type": "code",
   "execution_count": 1,
   "metadata": {},
   "outputs": [],
   "source": [
    "# Import required libraries for excecution\n",
    "from IPython.display import clear_output\n",
    "from gensim import corpora, models, similarities\n",
    "import numpy as np\n",
    "import pandas as pd\n",
    "import csv"
   ]
  },
  {
   "cell_type": "code",
   "execution_count": 2,
   "metadata": {},
   "outputs": [],
   "source": [
    "# Load vocabulary, doc_corpus, query_corpus and df with tags\n",
    "vocabulary = corpora.Dictionary.load('resources/vocab.dict')\n",
    "doc_corpus = corpora.MmCorpus(\"resources/doc_corpus.mm\")\n",
    "query_corpus = corpora.MmCorpus(\"resources/query_corpus.mm\")\n",
    "df = pd.read_csv('./data/relevance-judgments.tsv', sep='\\t', header=None)\n",
    "df.columns = ['query', 'doc']"
   ]
  },
  {
   "cell_type": "code",
   "execution_count": 3,
   "metadata": {},
   "outputs": [
    {
     "name": "stdout",
     "output_type": "stream",
     "text": [
      "Dictionary(17365 unique tokens: ['1', '1785', '1812', '1819', '1820']...)\n"
     ]
    }
   ],
   "source": [
    "# Glimpse at vocabulary\n",
    "print(vocabulary)\n",
    "#print(vocabulary.token2id)"
   ]
  },
  {
   "cell_type": "code",
   "execution_count": 4,
   "metadata": {},
   "outputs": [
    {
     "name": "stdout",
     "output_type": "stream",
     "text": [
      "MmCorpus(331 documents, 17365 features, 81038 non-zero entries)\n",
      "MmCorpus(35 documents, 16373 features, 110 non-zero entries)\n"
     ]
    }
   ],
   "source": [
    "# Glimpse to doc and query corpus\n",
    "print(doc_corpus)\n",
    "print(query_corpus)"
   ]
  },
  {
   "cell_type": "markdown",
   "metadata": {},
   "source": [
    "## Gensim Tfidf Model"
   ]
  },
  {
   "cell_type": "code",
   "execution_count": 5,
   "metadata": {},
   "outputs": [
    {
     "name": "stdout",
     "output_type": "stream",
     "text": [
      "Query 1 (tfidf form): \n",
      "[(693, 0.4785475819504571), (1228, 0.7316664619034943), (2283, 0.48544453888677447)]\n"
     ]
    }
   ],
   "source": [
    "# Create tfidf model for document corpus\n",
    "tfidf = models.TfidfModel(doc_corpus)\n",
    "\n",
    "# Model transformation\n",
    "print('Query 1 (tfidf form): ')\n",
    "print(tfidf[query_corpus][0]) \n",
    "\n",
    "# Similarity Matrix\n",
    "index = similarities.MatrixSimilarity(tfidf[doc_corpus])\n",
    "index.save('resources/similarity_matrix.index')"
   ]
  },
  {
   "cell_type": "markdown",
   "metadata": {},
   "source": [
    "## Querying "
   ]
  },
  {
   "cell_type": "code",
   "execution_count": 6,
   "metadata": {},
   "outputs": [
    {
     "name": "stdout",
     "output_type": "stream",
     "text": [
      "Gensim Tfidf Model Query results:\n",
      "\n",
      "[ 16 259 254 186  85]\n",
      "[147 149 283 134   2]\n",
      "[291 283 152]\n",
      "[ 19 270  49 275 310]\n",
      "[297 329  26  29 233]\n",
      "[146 289   4 266  34]\n",
      "[251 292 180 106 110]\n",
      "[199 198 217 223 177]\n",
      "[ 60  36 231 100  52]\n",
      "[258 277 239 250 176]\n",
      "[272 219  49 276  56]\n",
      "[145  41 121   2  91]\n",
      "[184 132 250 277 176]\n",
      "[172 271 146  91 121]\n",
      "[192 194 201 230 111]\n",
      "[179 323   4 102 273]\n",
      "[258 239  11  49 277]\n",
      "[219 276 323  26   7]\n",
      "[199 220 223  61 198]\n",
      "[166  20 328 156 128]\n",
      "[152 291  95 143 171]\n",
      "[103 316  51  54  56]\n",
      "[316  56 136 291  94]\n",
      "[314 113   1 120 133]\n",
      "[ 90  25  67 139  92]\n",
      "[224 221 312  75 113]\n",
      "[257 321  23 277 265]\n",
      "[169 116  62 327 141]\n",
      "[239 263 294  56  36]\n",
      "[307 283  42 250 228]\n",
      "[174 128 150 268  36]\n",
      "[298 218 314 125 174]\n",
      "[ 29 105 239 185 164]\n",
      "[105  29 185  85 126]\n",
      "[145 321  13 133 122]\n"
     ]
    }
   ],
   "source": [
    "\"\"\" Runs GENSIM Tfidf model for each query\n",
    "\n",
    "Args:\n",
    "    query_corpus (gensim.corpora.mmcorpus.MmCorpus): corpus with the queries. \n",
    "    df (pandas.core.frame.DataFrame): Dataframe with read queries.\n",
    "    \n",
    "Returns:\n",
    "    df (pandas.core.frame.DataFrame): Dataframe with new column with resulting documents for each query.\n",
    "\"\"\"\n",
    "\n",
    "# Load index matrix\n",
    "index = similarities.MatrixSimilarity.load('resources/similarity_matrix.index')\n",
    "\n",
    "# Querying\n",
    "print('Gensim Tfidf Model Query results:')\n",
    "print('')\n",
    "\n",
    "# Array to save results\n",
    "df_Gensim_results = []\n",
    "\n",
    "for q in query_corpus:\n",
    "    # Similarity between all docs and query q\n",
    "    sims = list(enumerate(index[tfidf[q]]))\n",
    "    dtype = [('doc_id', int), ('score', float)]\n",
    "    doc_sims = np.array(sims, dtype=dtype)\n",
    "    # Adjust docs ID\n",
    "    doc_sims['doc_id'] = doc_sims['doc_id'] + 1\n",
    "    \n",
    "    # Sort Docs by similarity\n",
    "    doc_sims_sorted = np.flip(np.sort(doc_sims, order='score'))\n",
    "\n",
    "    # Retrieve only documents with non zero score\n",
    "    k = len(np.nonzero(doc_sims['score'])[0])\n",
    "    relevant_docs = doc_sims_sorted[0:k]\n",
    "    \n",
    "    # Print only top 5 docs\n",
    "    print(relevant_docs['doc_id'][0:5])\n",
    "    \n",
    "    # Save results in desired format\n",
    "    doc_list = ''\n",
    "    for doc in relevant_docs['doc_id']:\n",
    "        doc_list = doc_list + 'd' + str(f'{doc:03}') + ','\n",
    "        \n",
    "    df_Gensim_results.append(doc_list[:-1])\n",
    "    \n",
    "# Write results into a .tsv file\n",
    "df['results'] = df_Gensim_results\n",
    "df = df.set_index('query')\n",
    "df.drop('doc', axis=1).to_csv('./results/GENSIM-queries_results.tsv', sep='\\t', header=False)"
   ]
  },
  {
   "cell_type": "markdown",
   "metadata": {},
   "source": [
    "The evaluation of these results is done on the HW01_7.ipybn notebook."
   ]
  }
 ],
 "metadata": {
  "kernelspec": {
   "display_name": "Python 3",
   "language": "python",
   "name": "python3"
  },
  "language_info": {
   "codemirror_mode": {
    "name": "ipython",
    "version": 3
   },
   "file_extension": ".py",
   "mimetype": "text/x-python",
   "name": "python",
   "nbconvert_exporter": "python",
   "pygments_lexer": "ipython3",
   "version": "3.6.9"
  }
 },
 "nbformat": 4,
 "nbformat_minor": 4
}

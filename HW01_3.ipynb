{
 "cells": [
  {
   "cell_type": "markdown",
   "metadata": {},
   "source": [
    "# HW1 Binary Search using Inverted Index"
   ]
  },
  {
   "cell_type": "code",
   "execution_count": 34,
   "metadata": {},
   "outputs": [],
   "source": [
    "import numpy as np\n",
    "from gensim import corpora"
   ]
  },
  {
   "cell_type": "code",
   "execution_count": 35,
   "metadata": {},
   "outputs": [],
   "source": [
    "dictionary = corpora.Dictionary.load('resources/vocab.dict')\n",
    "doc_corpus = corpora.MmCorpus('resources/doc_corpus.mm')"
   ]
  },
  {
   "cell_type": "code",
   "execution_count": 125,
   "metadata": {},
   "outputs": [
    {
     "name": "stdout",
     "output_type": "stream",
     "text": [
      "Calculating inverted index matrix!\n",
      "Completion: 100.00 %\r"
     ]
    }
   ],
   "source": [
    "# IDEA\n",
    "# [\n",
    "#   word0: [docID0, docID1, ... ,docIDN],\n",
    "#   word1: [docID0, docID1, ... ,docIDN],\n",
    "#   ... ,\n",
    "#   wordM: [docID0, docID1, ... , docIDN]\n",
    "# ]\n",
    "\n",
    "# Creates the matrix\n",
    "inverted_index = np.zeros((len(dictionary), len(doc_corpus)), dtype=np.bool_)\n",
    "\n",
    "print(\"Calculating inverted index matrix!\")\n",
    "\n",
    "for term_indx in range(len(dictionary)):\n",
    "    \n",
    "    # Prints execution status\n",
    "    print(\"Completion: {:4.2f} %\".format((term_indx + 1) / len(dictionary) * 100), end=\"\\r\")\n",
    "    \n",
    "    for doc_indx in range(len(doc_corpus)):\n",
    "        \n",
    "        doc = doc_corpus[doc_indx]\n",
    "        \n",
    "        for token in doc:\n",
    "            \n",
    "            if term_indx == token[0]:\n",
    "                inverted_index[term_indx, doc_indx] = True\n",
    "                break\n",
    "            \n",
    "            else:\n",
    "                inverted_index[term_indx, doc_indx] = False\n",
    "                \n",
    "np.save('./data/IImatrix.npy', inverted_index)"
   ]
  },
  {
   "cell_type": "code",
   "execution_count": 253,
   "metadata": {},
   "outputs": [],
   "source": [
    "def merge(pl0, pl1):\n",
    "\n",
    "    merged = []\n",
    "\n",
    "    finish = False\n",
    "    pointers = np.zeros((2, 1), dtype=np.int_)\n",
    "\n",
    "    while not finish:\n",
    "\n",
    "        docs = np.zeros((2, 1), dtype=np.int_)\n",
    "\n",
    "        try:\n",
    "            docs[0] = pl0[pointers[0]] + 1\n",
    "            docs[1] = pl1[pointers[1]] + 1\n",
    "        except IndexError as e:\n",
    "            finish = True\n",
    "\n",
    "        if docs[0] == docs[1]:\n",
    "            merged.append(docs[0])\n",
    "            pointers[0] += 1\n",
    "            pointers[1] += 1\n",
    "\n",
    "        else:\n",
    "            if docs[0] < docs[1]:\n",
    "                pointers[0] += 1\n",
    "            else:\n",
    "                pointers[1] += 1\n",
    "\n",
    "    return merged"
   ]
  },
  {
   "cell_type": "code",
   "execution_count": 281,
   "metadata": {},
   "outputs": [],
   "source": [
    "def inverted_index_query(inverted_index, query):\n",
    "        \n",
    "    posting_lists = []\n",
    "    \n",
    "    for token_id in query:\n",
    "        pl = np.where(inverted_index[token_id])[0] + 1\n",
    "        posting_lists.append(pl)\n",
    "        \n",
    "    if len(posting_lists) > 1:\n",
    "        \n",
    "        lens = np.asarray([len(x) for x in posting_lists])\n",
    "        pl0 = posting_lists.pop(lens.argsort()[0])\n",
    "        \n",
    "        lens = np.asarray([len(x) for x in posting_lists])\n",
    "        pl1 = posting_lists.pop(lens.argsort()[0])      \n",
    "        \n",
    "        merged = merge(pl0, pl1)\n",
    "        \n",
    "        if len(posting_lists) > 1:\n",
    "            pass\n",
    "            \n",
    "        else:\n",
    "            merged = merge(merged, posting_lists[0])\n",
    "        \n",
    "        return merged\n",
    "        \n",
    "    else:\n",
    "        return posting_lists[0]"
   ]
  },
  {
   "cell_type": "code",
   "execution_count": 282,
   "metadata": {},
   "outputs": [],
   "source": [
    "query_corpus = corpora.MmCorpus(\"resources/query_corpus.mm\")"
   ]
  },
  {
   "cell_type": "code",
   "execution_count": 283,
   "metadata": {},
   "outputs": [
    {
     "ename": "TypeError",
     "evalue": "only integer scalar arrays can be converted to a scalar index",
     "output_type": "error",
     "traceback": [
      "\u001b[0;31m---------------------------------------------------------------------------\u001b[0m",
      "\u001b[0;31mTypeError\u001b[0m                                 Traceback (most recent call last)",
      "\u001b[0;32m<ipython-input-283-4c27f576300d>\u001b[0m in \u001b[0;36m<module>\u001b[0;34m()\u001b[0m\n\u001b[1;32m      6\u001b[0m         \u001b[0mquery_tokens\u001b[0m\u001b[0;34m.\u001b[0m\u001b[0mappend\u001b[0m\u001b[0;34m(\u001b[0m\u001b[0mtoken\u001b[0m\u001b[0;34m[\u001b[0m\u001b[0;36m0\u001b[0m\u001b[0;34m]\u001b[0m\u001b[0;34m)\u001b[0m\u001b[0;34m\u001b[0m\u001b[0;34m\u001b[0m\u001b[0m\n\u001b[1;32m      7\u001b[0m \u001b[0;34m\u001b[0m\u001b[0m\n\u001b[0;32m----> 8\u001b[0;31m     \u001b[0mprint\u001b[0m\u001b[0;34m(\u001b[0m\u001b[0minverted_index_query\u001b[0m\u001b[0;34m(\u001b[0m\u001b[0minverted_index\u001b[0m\u001b[0;34m,\u001b[0m \u001b[0mquery_tokens\u001b[0m\u001b[0;34m)\u001b[0m\u001b[0;34m)\u001b[0m\u001b[0;34m\u001b[0m\u001b[0;34m\u001b[0m\u001b[0m\n\u001b[0m",
      "\u001b[0;32m<ipython-input-281-19e9c6fb3e78>\u001b[0m in \u001b[0;36minverted_index_query\u001b[0;34m(inverted_index, query)\u001b[0m\n\u001b[1;32m     21\u001b[0m \u001b[0;34m\u001b[0m\u001b[0m\n\u001b[1;32m     22\u001b[0m         \u001b[0;32melse\u001b[0m\u001b[0;34m:\u001b[0m\u001b[0;34m\u001b[0m\u001b[0;34m\u001b[0m\u001b[0m\n\u001b[0;32m---> 23\u001b[0;31m             \u001b[0mmerged\u001b[0m \u001b[0;34m=\u001b[0m \u001b[0mmerge\u001b[0m\u001b[0;34m(\u001b[0m\u001b[0mmerged\u001b[0m\u001b[0;34m,\u001b[0m \u001b[0mposting_lists\u001b[0m\u001b[0;34m[\u001b[0m\u001b[0;36m0\u001b[0m\u001b[0;34m]\u001b[0m\u001b[0;34m)\u001b[0m\u001b[0;34m\u001b[0m\u001b[0;34m\u001b[0m\u001b[0m\n\u001b[0m\u001b[1;32m     24\u001b[0m \u001b[0;34m\u001b[0m\u001b[0m\n\u001b[1;32m     25\u001b[0m         \u001b[0;32mreturn\u001b[0m \u001b[0mmerged\u001b[0m\u001b[0;34m\u001b[0m\u001b[0;34m\u001b[0m\u001b[0m\n",
      "\u001b[0;32m<ipython-input-253-7eba5363213d>\u001b[0m in \u001b[0;36mmerge\u001b[0;34m(pl0, pl1)\u001b[0m\n\u001b[1;32m     11\u001b[0m \u001b[0;34m\u001b[0m\u001b[0m\n\u001b[1;32m     12\u001b[0m         \u001b[0;32mtry\u001b[0m\u001b[0;34m:\u001b[0m\u001b[0;34m\u001b[0m\u001b[0;34m\u001b[0m\u001b[0m\n\u001b[0;32m---> 13\u001b[0;31m             \u001b[0mdocs\u001b[0m\u001b[0;34m[\u001b[0m\u001b[0;36m0\u001b[0m\u001b[0;34m]\u001b[0m \u001b[0;34m=\u001b[0m \u001b[0mpl0\u001b[0m\u001b[0;34m[\u001b[0m\u001b[0mpointers\u001b[0m\u001b[0;34m[\u001b[0m\u001b[0;36m0\u001b[0m\u001b[0;34m]\u001b[0m\u001b[0;34m]\u001b[0m \u001b[0;34m+\u001b[0m \u001b[0;36m1\u001b[0m\u001b[0;34m\u001b[0m\u001b[0;34m\u001b[0m\u001b[0m\n\u001b[0m\u001b[1;32m     14\u001b[0m             \u001b[0mdocs\u001b[0m\u001b[0;34m[\u001b[0m\u001b[0;36m1\u001b[0m\u001b[0;34m]\u001b[0m \u001b[0;34m=\u001b[0m \u001b[0mpl1\u001b[0m\u001b[0;34m[\u001b[0m\u001b[0mpointers\u001b[0m\u001b[0;34m[\u001b[0m\u001b[0;36m1\u001b[0m\u001b[0;34m]\u001b[0m\u001b[0;34m]\u001b[0m \u001b[0;34m+\u001b[0m \u001b[0;36m1\u001b[0m\u001b[0;34m\u001b[0m\u001b[0;34m\u001b[0m\u001b[0m\n\u001b[1;32m     15\u001b[0m         \u001b[0;32mexcept\u001b[0m \u001b[0mIndexError\u001b[0m \u001b[0;32mas\u001b[0m \u001b[0me\u001b[0m\u001b[0;34m:\u001b[0m\u001b[0;34m\u001b[0m\u001b[0;34m\u001b[0m\u001b[0m\n",
      "\u001b[0;31mTypeError\u001b[0m: only integer scalar arrays can be converted to a scalar index"
     ]
    }
   ],
   "source": [
    "for query in query_corpus:\n",
    "    \n",
    "    query_tokens = []\n",
    "    \n",
    "    for token in query:\n",
    "        query_tokens.append(token[0])\n",
    "        \n",
    "    print(inverted_index_query(inverted_index, query_tokens))"
   ]
  },
  {
   "cell_type": "code",
   "execution_count": null,
   "metadata": {},
   "outputs": [],
   "source": []
  },
  {
   "cell_type": "code",
   "execution_count": null,
   "metadata": {},
   "outputs": [],
   "source": []
  }
 ],
 "metadata": {
  "kernelspec": {
   "display_name": "Python 3",
   "language": "python",
   "name": "python3"
  },
  "language_info": {
   "codemirror_mode": {
    "name": "ipython",
    "version": 3
   },
   "file_extension": ".py",
   "mimetype": "text/x-python",
   "name": "python",
   "nbconvert_exporter": "python",
   "pygments_lexer": "ipython3",
   "version": "3.6.9"
  }
 },
 "nbformat": 4,
 "nbformat_minor": 2
}
